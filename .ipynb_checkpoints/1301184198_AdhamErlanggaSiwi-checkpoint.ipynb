{
 "cells": [
  {
   "cell_type": "markdown",
   "metadata": {},
   "source": [
    "# Tugas Besar Machine Learning - Clustering \n",
    "## Nama: Adham Erlangga Siwi\n",
    "## NIM: 1301184198"
   ]
  },
  {
   "cell_type": "markdown",
   "metadata": {},
   "source": [
    "### Formulasi Masalah"
   ]
  },
  {
   "cell_type": "markdown",
   "metadata": {},
   "source": [
    "Diberikan dataset berjudul kendaraan berisi beberapa kolom mengenai data pelanggan dari suatu dealer. Data akan digunakan untuk pembuatan model yang akan menemukan cluster dari suatu data yang dipilih"
   ]
  },
  {
   "cell_type": "markdown",
   "metadata": {},
   "source": [
    "### Import Libraries"
   ]
  },
  {
   "cell_type": "code",
   "execution_count": 1,
   "metadata": {},
   "outputs": [],
   "source": [
    "import pandas as pd\n",
    "import numpy as np\n",
    "import numpy.matlib\n",
    "import matplotlib.pyplot as plt\n",
    "import seaborn as sns"
   ]
  },
  {
   "cell_type": "markdown",
   "metadata": {},
   "source": [
    "### Eksplorasi dan Persiapan Data"
   ]
  },
  {
   "cell_type": "markdown",
   "metadata": {},
   "source": [
    "###### Load Data"
   ]
  },
  {
   "cell_type": "code",
   "execution_count": 2,
   "metadata": {},
   "outputs": [],
   "source": [
    "df_train = pd.read_csv(\"kendaraan_train.csv\")"
   ]
  },
  {
   "cell_type": "markdown",
   "metadata": {},
   "source": [
    "##### Melihat 5 baris awal dari dataset"
   ]
  },
  {
   "cell_type": "markdown",
   "metadata": {},
   "source": [
    "tahap ini diperlukan agar kita dapat mendapatkan gambaran dari data yang akan digunakan"
   ]
  },
  {
   "cell_type": "code",
   "execution_count": 3,
   "metadata": {},
   "outputs": [
    {
     "data": {
      "text/html": [
       "<div>\n",
       "<style scoped>\n",
       "    .dataframe tbody tr th:only-of-type {\n",
       "        vertical-align: middle;\n",
       "    }\n",
       "\n",
       "    .dataframe tbody tr th {\n",
       "        vertical-align: top;\n",
       "    }\n",
       "\n",
       "    .dataframe thead th {\n",
       "        text-align: right;\n",
       "    }\n",
       "</style>\n",
       "<table border=\"1\" class=\"dataframe\">\n",
       "  <thead>\n",
       "    <tr style=\"text-align: right;\">\n",
       "      <th></th>\n",
       "      <th>id</th>\n",
       "      <th>Jenis_Kelamin</th>\n",
       "      <th>Umur</th>\n",
       "      <th>SIM</th>\n",
       "      <th>Kode_Daerah</th>\n",
       "      <th>Sudah_Asuransi</th>\n",
       "      <th>Umur_Kendaraan</th>\n",
       "      <th>Kendaraan_Rusak</th>\n",
       "      <th>Premi</th>\n",
       "      <th>Kanal_Penjualan</th>\n",
       "      <th>Lama_Berlangganan</th>\n",
       "      <th>Tertarik</th>\n",
       "    </tr>\n",
       "  </thead>\n",
       "  <tbody>\n",
       "    <tr>\n",
       "      <th>0</th>\n",
       "      <td>1</td>\n",
       "      <td>Wanita</td>\n",
       "      <td>30.0</td>\n",
       "      <td>1.0</td>\n",
       "      <td>33.0</td>\n",
       "      <td>1.0</td>\n",
       "      <td>&lt; 1 Tahun</td>\n",
       "      <td>Tidak</td>\n",
       "      <td>28029.0</td>\n",
       "      <td>152.0</td>\n",
       "      <td>97.0</td>\n",
       "      <td>0</td>\n",
       "    </tr>\n",
       "    <tr>\n",
       "      <th>1</th>\n",
       "      <td>2</td>\n",
       "      <td>Pria</td>\n",
       "      <td>48.0</td>\n",
       "      <td>1.0</td>\n",
       "      <td>39.0</td>\n",
       "      <td>0.0</td>\n",
       "      <td>&gt; 2 Tahun</td>\n",
       "      <td>Pernah</td>\n",
       "      <td>25800.0</td>\n",
       "      <td>29.0</td>\n",
       "      <td>158.0</td>\n",
       "      <td>0</td>\n",
       "    </tr>\n",
       "    <tr>\n",
       "      <th>2</th>\n",
       "      <td>3</td>\n",
       "      <td>NaN</td>\n",
       "      <td>21.0</td>\n",
       "      <td>1.0</td>\n",
       "      <td>46.0</td>\n",
       "      <td>1.0</td>\n",
       "      <td>&lt; 1 Tahun</td>\n",
       "      <td>Tidak</td>\n",
       "      <td>32733.0</td>\n",
       "      <td>160.0</td>\n",
       "      <td>119.0</td>\n",
       "      <td>0</td>\n",
       "    </tr>\n",
       "    <tr>\n",
       "      <th>3</th>\n",
       "      <td>4</td>\n",
       "      <td>Wanita</td>\n",
       "      <td>58.0</td>\n",
       "      <td>1.0</td>\n",
       "      <td>48.0</td>\n",
       "      <td>0.0</td>\n",
       "      <td>1-2 Tahun</td>\n",
       "      <td>Tidak</td>\n",
       "      <td>2630.0</td>\n",
       "      <td>124.0</td>\n",
       "      <td>63.0</td>\n",
       "      <td>0</td>\n",
       "    </tr>\n",
       "    <tr>\n",
       "      <th>4</th>\n",
       "      <td>5</td>\n",
       "      <td>Pria</td>\n",
       "      <td>50.0</td>\n",
       "      <td>1.0</td>\n",
       "      <td>35.0</td>\n",
       "      <td>0.0</td>\n",
       "      <td>&gt; 2 Tahun</td>\n",
       "      <td>NaN</td>\n",
       "      <td>34857.0</td>\n",
       "      <td>88.0</td>\n",
       "      <td>194.0</td>\n",
       "      <td>0</td>\n",
       "    </tr>\n",
       "  </tbody>\n",
       "</table>\n",
       "</div>"
      ],
      "text/plain": [
       "   id Jenis_Kelamin  Umur  SIM  Kode_Daerah  Sudah_Asuransi Umur_Kendaraan  \\\n",
       "0   1        Wanita  30.0  1.0         33.0             1.0      < 1 Tahun   \n",
       "1   2          Pria  48.0  1.0         39.0             0.0      > 2 Tahun   \n",
       "2   3           NaN  21.0  1.0         46.0             1.0      < 1 Tahun   \n",
       "3   4        Wanita  58.0  1.0         48.0             0.0      1-2 Tahun   \n",
       "4   5          Pria  50.0  1.0         35.0             0.0      > 2 Tahun   \n",
       "\n",
       "  Kendaraan_Rusak    Premi  Kanal_Penjualan  Lama_Berlangganan  Tertarik  \n",
       "0           Tidak  28029.0            152.0               97.0         0  \n",
       "1          Pernah  25800.0             29.0              158.0         0  \n",
       "2           Tidak  32733.0            160.0              119.0         0  \n",
       "3           Tidak   2630.0            124.0               63.0         0  \n",
       "4             NaN  34857.0             88.0              194.0         0  "
      ]
     },
     "execution_count": 3,
     "metadata": {},
     "output_type": "execute_result"
    }
   ],
   "source": [
    "df_train.head()"
   ]
  },
  {
   "cell_type": "markdown",
   "metadata": {},
   "source": [
    "###### Mencari jumlah baris dan kolom dari dataset"
   ]
  },
  {
   "cell_type": "code",
   "execution_count": 4,
   "metadata": {},
   "outputs": [
    {
     "data": {
      "text/plain": [
       "(285831, 12)"
      ]
     },
     "execution_count": 4,
     "metadata": {},
     "output_type": "execute_result"
    }
   ],
   "source": [
    "df_train.shape"
   ]
  },
  {
   "cell_type": "markdown",
   "metadata": {},
   "source": [
    "Dataset berisi 285.831 baris dan 12 kolom"
   ]
  },
  {
   "cell_type": "markdown",
   "metadata": {},
   "source": [
    "###### Menampilkan tipe data tiap kolom dari dataset"
   ]
  },
  {
   "cell_type": "code",
   "execution_count": 5,
   "metadata": {},
   "outputs": [
    {
     "name": "stdout",
     "output_type": "stream",
     "text": [
      "<class 'pandas.core.frame.DataFrame'>\n",
      "RangeIndex: 285831 entries, 0 to 285830\n",
      "Data columns (total 12 columns):\n",
      " #   Column             Non-Null Count   Dtype  \n",
      "---  ------             --------------   -----  \n",
      " 0   id                 285831 non-null  int64  \n",
      " 1   Jenis_Kelamin      271391 non-null  object \n",
      " 2   Umur               271617 non-null  float64\n",
      " 3   SIM                271427 non-null  float64\n",
      " 4   Kode_Daerah        271525 non-null  float64\n",
      " 5   Sudah_Asuransi     271602 non-null  float64\n",
      " 6   Umur_Kendaraan     271556 non-null  object \n",
      " 7   Kendaraan_Rusak    271643 non-null  object \n",
      " 8   Premi              271262 non-null  float64\n",
      " 9   Kanal_Penjualan    271532 non-null  float64\n",
      " 10  Lama_Berlangganan  271839 non-null  float64\n",
      " 11  Tertarik           285831 non-null  int64  \n",
      "dtypes: float64(7), int64(2), object(3)\n",
      "memory usage: 26.2+ MB\n"
     ]
    }
   ],
   "source": [
    "df_train.info()"
   ]
  },
  {
   "cell_type": "markdown",
   "metadata": {},
   "source": [
    "###### Menampilkan statistik dekriptif dari dataset"
   ]
  },
  {
   "cell_type": "code",
   "execution_count": 6,
   "metadata": {},
   "outputs": [
    {
     "data": {
      "text/html": [
       "<div>\n",
       "<style scoped>\n",
       "    .dataframe tbody tr th:only-of-type {\n",
       "        vertical-align: middle;\n",
       "    }\n",
       "\n",
       "    .dataframe tbody tr th {\n",
       "        vertical-align: top;\n",
       "    }\n",
       "\n",
       "    .dataframe thead th {\n",
       "        text-align: right;\n",
       "    }\n",
       "</style>\n",
       "<table border=\"1\" class=\"dataframe\">\n",
       "  <thead>\n",
       "    <tr style=\"text-align: right;\">\n",
       "      <th></th>\n",
       "      <th>id</th>\n",
       "      <th>Umur</th>\n",
       "      <th>SIM</th>\n",
       "      <th>Kode_Daerah</th>\n",
       "      <th>Sudah_Asuransi</th>\n",
       "      <th>Premi</th>\n",
       "      <th>Kanal_Penjualan</th>\n",
       "      <th>Lama_Berlangganan</th>\n",
       "      <th>Tertarik</th>\n",
       "    </tr>\n",
       "  </thead>\n",
       "  <tbody>\n",
       "    <tr>\n",
       "      <th>count</th>\n",
       "      <td>285831.000000</td>\n",
       "      <td>271617.000000</td>\n",
       "      <td>271427.000000</td>\n",
       "      <td>271525.000000</td>\n",
       "      <td>271602.000000</td>\n",
       "      <td>271262.000000</td>\n",
       "      <td>271532.000000</td>\n",
       "      <td>271839.000000</td>\n",
       "      <td>285831.000000</td>\n",
       "    </tr>\n",
       "    <tr>\n",
       "      <th>mean</th>\n",
       "      <td>142916.000000</td>\n",
       "      <td>38.844336</td>\n",
       "      <td>0.997848</td>\n",
       "      <td>26.405410</td>\n",
       "      <td>0.458778</td>\n",
       "      <td>30536.683472</td>\n",
       "      <td>112.021567</td>\n",
       "      <td>154.286302</td>\n",
       "      <td>0.122471</td>\n",
       "    </tr>\n",
       "    <tr>\n",
       "      <th>std</th>\n",
       "      <td>82512.446734</td>\n",
       "      <td>15.522487</td>\n",
       "      <td>0.046335</td>\n",
       "      <td>13.252714</td>\n",
       "      <td>0.498299</td>\n",
       "      <td>17155.000770</td>\n",
       "      <td>54.202457</td>\n",
       "      <td>83.694910</td>\n",
       "      <td>0.327830</td>\n",
       "    </tr>\n",
       "    <tr>\n",
       "      <th>min</th>\n",
       "      <td>1.000000</td>\n",
       "      <td>20.000000</td>\n",
       "      <td>0.000000</td>\n",
       "      <td>0.000000</td>\n",
       "      <td>0.000000</td>\n",
       "      <td>2630.000000</td>\n",
       "      <td>1.000000</td>\n",
       "      <td>10.000000</td>\n",
       "      <td>0.000000</td>\n",
       "    </tr>\n",
       "    <tr>\n",
       "      <th>25%</th>\n",
       "      <td>71458.500000</td>\n",
       "      <td>25.000000</td>\n",
       "      <td>1.000000</td>\n",
       "      <td>15.000000</td>\n",
       "      <td>0.000000</td>\n",
       "      <td>24398.000000</td>\n",
       "      <td>29.000000</td>\n",
       "      <td>82.000000</td>\n",
       "      <td>0.000000</td>\n",
       "    </tr>\n",
       "    <tr>\n",
       "      <th>50%</th>\n",
       "      <td>142916.000000</td>\n",
       "      <td>36.000000</td>\n",
       "      <td>1.000000</td>\n",
       "      <td>28.000000</td>\n",
       "      <td>0.000000</td>\n",
       "      <td>31646.000000</td>\n",
       "      <td>132.000000</td>\n",
       "      <td>154.000000</td>\n",
       "      <td>0.000000</td>\n",
       "    </tr>\n",
       "    <tr>\n",
       "      <th>75%</th>\n",
       "      <td>214373.500000</td>\n",
       "      <td>49.000000</td>\n",
       "      <td>1.000000</td>\n",
       "      <td>35.000000</td>\n",
       "      <td>1.000000</td>\n",
       "      <td>39377.750000</td>\n",
       "      <td>152.000000</td>\n",
       "      <td>227.000000</td>\n",
       "      <td>0.000000</td>\n",
       "    </tr>\n",
       "    <tr>\n",
       "      <th>max</th>\n",
       "      <td>285831.000000</td>\n",
       "      <td>85.000000</td>\n",
       "      <td>1.000000</td>\n",
       "      <td>52.000000</td>\n",
       "      <td>1.000000</td>\n",
       "      <td>540165.000000</td>\n",
       "      <td>163.000000</td>\n",
       "      <td>299.000000</td>\n",
       "      <td>1.000000</td>\n",
       "    </tr>\n",
       "  </tbody>\n",
       "</table>\n",
       "</div>"
      ],
      "text/plain": [
       "                  id           Umur            SIM    Kode_Daerah  \\\n",
       "count  285831.000000  271617.000000  271427.000000  271525.000000   \n",
       "mean   142916.000000      38.844336       0.997848      26.405410   \n",
       "std     82512.446734      15.522487       0.046335      13.252714   \n",
       "min         1.000000      20.000000       0.000000       0.000000   \n",
       "25%     71458.500000      25.000000       1.000000      15.000000   \n",
       "50%    142916.000000      36.000000       1.000000      28.000000   \n",
       "75%    214373.500000      49.000000       1.000000      35.000000   \n",
       "max    285831.000000      85.000000       1.000000      52.000000   \n",
       "\n",
       "       Sudah_Asuransi          Premi  Kanal_Penjualan  Lama_Berlangganan  \\\n",
       "count   271602.000000  271262.000000    271532.000000      271839.000000   \n",
       "mean         0.458778   30536.683472       112.021567         154.286302   \n",
       "std          0.498299   17155.000770        54.202457          83.694910   \n",
       "min          0.000000    2630.000000         1.000000          10.000000   \n",
       "25%          0.000000   24398.000000        29.000000          82.000000   \n",
       "50%          0.000000   31646.000000       132.000000         154.000000   \n",
       "75%          1.000000   39377.750000       152.000000         227.000000   \n",
       "max          1.000000  540165.000000       163.000000         299.000000   \n",
       "\n",
       "            Tertarik  \n",
       "count  285831.000000  \n",
       "mean        0.122471  \n",
       "std         0.327830  \n",
       "min         0.000000  \n",
       "25%         0.000000  \n",
       "50%         0.000000  \n",
       "75%         0.000000  \n",
       "max         1.000000  "
      ]
     },
     "execution_count": 6,
     "metadata": {},
     "output_type": "execute_result"
    }
   ],
   "source": [
    "df_train.describe()"
   ]
  },
  {
   "cell_type": "markdown",
   "metadata": {},
   "source": [
    "###### Pengecekan nilai yang kosong pada dataset"
   ]
  },
  {
   "cell_type": "markdown",
   "metadata": {},
   "source": [
    "menghitung jumlah baris yang bernilai kosong pada tiap kolom"
   ]
  },
  {
   "cell_type": "code",
   "execution_count": 7,
   "metadata": {},
   "outputs": [
    {
     "data": {
      "text/plain": [
       "id                       0\n",
       "Jenis_Kelamin        14440\n",
       "Umur                 14214\n",
       "SIM                  14404\n",
       "Kode_Daerah          14306\n",
       "Sudah_Asuransi       14229\n",
       "Umur_Kendaraan       14275\n",
       "Kendaraan_Rusak      14188\n",
       "Premi                14569\n",
       "Kanal_Penjualan      14299\n",
       "Lama_Berlangganan    13992\n",
       "Tertarik                 0\n",
       "dtype: int64"
      ]
     },
     "execution_count": 7,
     "metadata": {},
     "output_type": "execute_result"
    }
   ],
   "source": [
    "df_train.isnull().sum()"
   ]
  },
  {
   "cell_type": "markdown",
   "metadata": {},
   "source": [
    "Dihasilkan seluruh kolom kecuali Tertarik dan ID, memiliki nilai kosong"
   ]
  },
  {
   "cell_type": "markdown",
   "metadata": {},
   "source": [
    "###### Membuang baris data yang kosong pada dataset"
   ]
  },
  {
   "cell_type": "markdown",
   "metadata": {},
   "source": [
    "dengan melakukan pembersihan data (membuang baris yang kosong), data akan mudah untuk kita olah"
   ]
  },
  {
   "cell_type": "code",
   "execution_count": 8,
   "metadata": {},
   "outputs": [
    {
     "data": {
      "text/plain": [
       "id                   0\n",
       "Jenis_Kelamin        0\n",
       "Umur                 0\n",
       "SIM                  0\n",
       "Kode_Daerah          0\n",
       "Sudah_Asuransi       0\n",
       "Umur_Kendaraan       0\n",
       "Kendaraan_Rusak      0\n",
       "Premi                0\n",
       "Kanal_Penjualan      0\n",
       "Lama_Berlangganan    0\n",
       "Tertarik             0\n",
       "dtype: int64"
      ]
     },
     "execution_count": 8,
     "metadata": {},
     "output_type": "execute_result"
    }
   ],
   "source": [
    "df_train.dropna(inplace = True, axis = 0)\n",
    "df_train.isnull().sum()"
   ]
  },
  {
   "cell_type": "markdown",
   "metadata": {},
   "source": [
    "setiap kolom telah bersih dari nilai yang kosong (angka 0 menunjukkan jumlah baris yang memiliki entri null)"
   ]
  },
  {
   "cell_type": "markdown",
   "metadata": {},
   "source": [
    "###### Drop ID dan reset index"
   ]
  },
  {
   "cell_type": "markdown",
   "metadata": {},
   "source": [
    "Dikarenakan kolom id tidak mempengaruhi clustering dan bukan yang akan kita cluster, maka kita drop ID lalu reset index (akibat dari drop entri data yang null)"
   ]
  },
  {
   "cell_type": "code",
   "execution_count": 9,
   "metadata": {},
   "outputs": [],
   "source": [
    "df_train = df_train.drop([\"id\"], axis = 1)\n",
    "df_train = df_train.reset_index(drop=True)"
   ]
  },
  {
   "cell_type": "code",
   "execution_count": 10,
   "metadata": {},
   "outputs": [
    {
     "data": {
      "text/html": [
       "<div>\n",
       "<style scoped>\n",
       "    .dataframe tbody tr th:only-of-type {\n",
       "        vertical-align: middle;\n",
       "    }\n",
       "\n",
       "    .dataframe tbody tr th {\n",
       "        vertical-align: top;\n",
       "    }\n",
       "\n",
       "    .dataframe thead th {\n",
       "        text-align: right;\n",
       "    }\n",
       "</style>\n",
       "<table border=\"1\" class=\"dataframe\">\n",
       "  <thead>\n",
       "    <tr style=\"text-align: right;\">\n",
       "      <th></th>\n",
       "      <th>Jenis_Kelamin</th>\n",
       "      <th>Umur</th>\n",
       "      <th>SIM</th>\n",
       "      <th>Kode_Daerah</th>\n",
       "      <th>Sudah_Asuransi</th>\n",
       "      <th>Umur_Kendaraan</th>\n",
       "      <th>Kendaraan_Rusak</th>\n",
       "      <th>Premi</th>\n",
       "      <th>Kanal_Penjualan</th>\n",
       "      <th>Lama_Berlangganan</th>\n",
       "      <th>Tertarik</th>\n",
       "    </tr>\n",
       "  </thead>\n",
       "  <tbody>\n",
       "    <tr>\n",
       "      <th>0</th>\n",
       "      <td>Wanita</td>\n",
       "      <td>30.0</td>\n",
       "      <td>1.0</td>\n",
       "      <td>33.0</td>\n",
       "      <td>1.0</td>\n",
       "      <td>&lt; 1 Tahun</td>\n",
       "      <td>Tidak</td>\n",
       "      <td>28029.0</td>\n",
       "      <td>152.0</td>\n",
       "      <td>97.0</td>\n",
       "      <td>0</td>\n",
       "    </tr>\n",
       "    <tr>\n",
       "      <th>1</th>\n",
       "      <td>Pria</td>\n",
       "      <td>48.0</td>\n",
       "      <td>1.0</td>\n",
       "      <td>39.0</td>\n",
       "      <td>0.0</td>\n",
       "      <td>&gt; 2 Tahun</td>\n",
       "      <td>Pernah</td>\n",
       "      <td>25800.0</td>\n",
       "      <td>29.0</td>\n",
       "      <td>158.0</td>\n",
       "      <td>0</td>\n",
       "    </tr>\n",
       "    <tr>\n",
       "      <th>2</th>\n",
       "      <td>Wanita</td>\n",
       "      <td>58.0</td>\n",
       "      <td>1.0</td>\n",
       "      <td>48.0</td>\n",
       "      <td>0.0</td>\n",
       "      <td>1-2 Tahun</td>\n",
       "      <td>Tidak</td>\n",
       "      <td>2630.0</td>\n",
       "      <td>124.0</td>\n",
       "      <td>63.0</td>\n",
       "      <td>0</td>\n",
       "    </tr>\n",
       "    <tr>\n",
       "      <th>3</th>\n",
       "      <td>Pria</td>\n",
       "      <td>21.0</td>\n",
       "      <td>1.0</td>\n",
       "      <td>35.0</td>\n",
       "      <td>1.0</td>\n",
       "      <td>&lt; 1 Tahun</td>\n",
       "      <td>Tidak</td>\n",
       "      <td>22735.0</td>\n",
       "      <td>152.0</td>\n",
       "      <td>171.0</td>\n",
       "      <td>0</td>\n",
       "    </tr>\n",
       "    <tr>\n",
       "      <th>4</th>\n",
       "      <td>Wanita</td>\n",
       "      <td>20.0</td>\n",
       "      <td>1.0</td>\n",
       "      <td>8.0</td>\n",
       "      <td>1.0</td>\n",
       "      <td>&lt; 1 Tahun</td>\n",
       "      <td>Tidak</td>\n",
       "      <td>30786.0</td>\n",
       "      <td>160.0</td>\n",
       "      <td>31.0</td>\n",
       "      <td>0</td>\n",
       "    </tr>\n",
       "  </tbody>\n",
       "</table>\n",
       "</div>"
      ],
      "text/plain": [
       "  Jenis_Kelamin  Umur  SIM  Kode_Daerah  Sudah_Asuransi Umur_Kendaraan  \\\n",
       "0        Wanita  30.0  1.0         33.0             1.0      < 1 Tahun   \n",
       "1          Pria  48.0  1.0         39.0             0.0      > 2 Tahun   \n",
       "2        Wanita  58.0  1.0         48.0             0.0      1-2 Tahun   \n",
       "3          Pria  21.0  1.0         35.0             1.0      < 1 Tahun   \n",
       "4        Wanita  20.0  1.0          8.0             1.0      < 1 Tahun   \n",
       "\n",
       "  Kendaraan_Rusak    Premi  Kanal_Penjualan  Lama_Berlangganan  Tertarik  \n",
       "0           Tidak  28029.0            152.0               97.0         0  \n",
       "1          Pernah  25800.0             29.0              158.0         0  \n",
       "2           Tidak   2630.0            124.0               63.0         0  \n",
       "3           Tidak  22735.0            152.0              171.0         0  \n",
       "4           Tidak  30786.0            160.0               31.0         0  "
      ]
     },
     "execution_count": 10,
     "metadata": {},
     "output_type": "execute_result"
    }
   ],
   "source": [
    "df_train.head()"
   ]
  },
  {
   "cell_type": "markdown",
   "metadata": {},
   "source": [
    "Kolom id telah di drop dan index sudah terurut"
   ]
  },
  {
   "cell_type": "markdown",
   "metadata": {},
   "source": [
    "###### Mengkonversi kolom dengan tipe data objek menjadi numerikal"
   ]
  },
  {
   "cell_type": "markdown",
   "metadata": {},
   "source": [
    "agar pengolahan data mudah dilakukan, maka akan dilakukan konversi data menjadi numerikal dengan aturan seperti pada code"
   ]
  },
  {
   "cell_type": "code",
   "execution_count": 11,
   "metadata": {},
   "outputs": [
    {
     "data": {
      "text/html": [
       "<div>\n",
       "<style scoped>\n",
       "    .dataframe tbody tr th:only-of-type {\n",
       "        vertical-align: middle;\n",
       "    }\n",
       "\n",
       "    .dataframe tbody tr th {\n",
       "        vertical-align: top;\n",
       "    }\n",
       "\n",
       "    .dataframe thead th {\n",
       "        text-align: right;\n",
       "    }\n",
       "</style>\n",
       "<table border=\"1\" class=\"dataframe\">\n",
       "  <thead>\n",
       "    <tr style=\"text-align: right;\">\n",
       "      <th></th>\n",
       "      <th>Jenis_Kelamin</th>\n",
       "      <th>Umur</th>\n",
       "      <th>SIM</th>\n",
       "      <th>Kode_Daerah</th>\n",
       "      <th>Sudah_Asuransi</th>\n",
       "      <th>Umur_Kendaraan</th>\n",
       "      <th>Kendaraan_Rusak</th>\n",
       "      <th>Premi</th>\n",
       "      <th>Kanal_Penjualan</th>\n",
       "      <th>Lama_Berlangganan</th>\n",
       "      <th>Tertarik</th>\n",
       "    </tr>\n",
       "  </thead>\n",
       "  <tbody>\n",
       "    <tr>\n",
       "      <th>0</th>\n",
       "      <td>0</td>\n",
       "      <td>30.0</td>\n",
       "      <td>1.0</td>\n",
       "      <td>33.0</td>\n",
       "      <td>1.0</td>\n",
       "      <td>1.0</td>\n",
       "      <td>0</td>\n",
       "      <td>28029.0</td>\n",
       "      <td>152.0</td>\n",
       "      <td>97.0</td>\n",
       "      <td>0</td>\n",
       "    </tr>\n",
       "    <tr>\n",
       "      <th>1</th>\n",
       "      <td>1</td>\n",
       "      <td>48.0</td>\n",
       "      <td>1.0</td>\n",
       "      <td>39.0</td>\n",
       "      <td>0.0</td>\n",
       "      <td>2.0</td>\n",
       "      <td>1</td>\n",
       "      <td>25800.0</td>\n",
       "      <td>29.0</td>\n",
       "      <td>158.0</td>\n",
       "      <td>0</td>\n",
       "    </tr>\n",
       "    <tr>\n",
       "      <th>2</th>\n",
       "      <td>0</td>\n",
       "      <td>58.0</td>\n",
       "      <td>1.0</td>\n",
       "      <td>48.0</td>\n",
       "      <td>0.0</td>\n",
       "      <td>1.5</td>\n",
       "      <td>0</td>\n",
       "      <td>2630.0</td>\n",
       "      <td>124.0</td>\n",
       "      <td>63.0</td>\n",
       "      <td>0</td>\n",
       "    </tr>\n",
       "    <tr>\n",
       "      <th>3</th>\n",
       "      <td>1</td>\n",
       "      <td>21.0</td>\n",
       "      <td>1.0</td>\n",
       "      <td>35.0</td>\n",
       "      <td>1.0</td>\n",
       "      <td>1.0</td>\n",
       "      <td>0</td>\n",
       "      <td>22735.0</td>\n",
       "      <td>152.0</td>\n",
       "      <td>171.0</td>\n",
       "      <td>0</td>\n",
       "    </tr>\n",
       "    <tr>\n",
       "      <th>4</th>\n",
       "      <td>0</td>\n",
       "      <td>20.0</td>\n",
       "      <td>1.0</td>\n",
       "      <td>8.0</td>\n",
       "      <td>1.0</td>\n",
       "      <td>1.0</td>\n",
       "      <td>0</td>\n",
       "      <td>30786.0</td>\n",
       "      <td>160.0</td>\n",
       "      <td>31.0</td>\n",
       "      <td>0</td>\n",
       "    </tr>\n",
       "    <tr>\n",
       "      <th>5</th>\n",
       "      <td>1</td>\n",
       "      <td>25.0</td>\n",
       "      <td>1.0</td>\n",
       "      <td>14.0</td>\n",
       "      <td>1.0</td>\n",
       "      <td>1.0</td>\n",
       "      <td>0</td>\n",
       "      <td>34212.0</td>\n",
       "      <td>152.0</td>\n",
       "      <td>282.0</td>\n",
       "      <td>0</td>\n",
       "    </tr>\n",
       "    <tr>\n",
       "      <th>6</th>\n",
       "      <td>1</td>\n",
       "      <td>66.0</td>\n",
       "      <td>1.0</td>\n",
       "      <td>24.0</td>\n",
       "      <td>1.0</td>\n",
       "      <td>1.5</td>\n",
       "      <td>0</td>\n",
       "      <td>38616.0</td>\n",
       "      <td>145.0</td>\n",
       "      <td>281.0</td>\n",
       "      <td>0</td>\n",
       "    </tr>\n",
       "    <tr>\n",
       "      <th>7</th>\n",
       "      <td>1</td>\n",
       "      <td>31.0</td>\n",
       "      <td>1.0</td>\n",
       "      <td>8.0</td>\n",
       "      <td>0.0</td>\n",
       "      <td>1.0</td>\n",
       "      <td>1</td>\n",
       "      <td>2630.0</td>\n",
       "      <td>152.0</td>\n",
       "      <td>132.0</td>\n",
       "      <td>0</td>\n",
       "    </tr>\n",
       "    <tr>\n",
       "      <th>8</th>\n",
       "      <td>0</td>\n",
       "      <td>24.0</td>\n",
       "      <td>1.0</td>\n",
       "      <td>30.0</td>\n",
       "      <td>1.0</td>\n",
       "      <td>1.0</td>\n",
       "      <td>0</td>\n",
       "      <td>27285.0</td>\n",
       "      <td>152.0</td>\n",
       "      <td>215.0</td>\n",
       "      <td>0</td>\n",
       "    </tr>\n",
       "    <tr>\n",
       "      <th>9</th>\n",
       "      <td>0</td>\n",
       "      <td>22.0</td>\n",
       "      <td>1.0</td>\n",
       "      <td>15.0</td>\n",
       "      <td>0.0</td>\n",
       "      <td>1.0</td>\n",
       "      <td>1</td>\n",
       "      <td>38289.0</td>\n",
       "      <td>152.0</td>\n",
       "      <td>225.0</td>\n",
       "      <td>0</td>\n",
       "    </tr>\n",
       "  </tbody>\n",
       "</table>\n",
       "</div>"
      ],
      "text/plain": [
       "   Jenis_Kelamin  Umur  SIM  Kode_Daerah  Sudah_Asuransi  Umur_Kendaraan  \\\n",
       "0              0  30.0  1.0         33.0             1.0             1.0   \n",
       "1              1  48.0  1.0         39.0             0.0             2.0   \n",
       "2              0  58.0  1.0         48.0             0.0             1.5   \n",
       "3              1  21.0  1.0         35.0             1.0             1.0   \n",
       "4              0  20.0  1.0          8.0             1.0             1.0   \n",
       "5              1  25.0  1.0         14.0             1.0             1.0   \n",
       "6              1  66.0  1.0         24.0             1.0             1.5   \n",
       "7              1  31.0  1.0          8.0             0.0             1.0   \n",
       "8              0  24.0  1.0         30.0             1.0             1.0   \n",
       "9              0  22.0  1.0         15.0             0.0             1.0   \n",
       "\n",
       "   Kendaraan_Rusak    Premi  Kanal_Penjualan  Lama_Berlangganan  Tertarik  \n",
       "0                0  28029.0            152.0               97.0         0  \n",
       "1                1  25800.0             29.0              158.0         0  \n",
       "2                0   2630.0            124.0               63.0         0  \n",
       "3                0  22735.0            152.0              171.0         0  \n",
       "4                0  30786.0            160.0               31.0         0  \n",
       "5                0  34212.0            152.0              282.0         0  \n",
       "6                0  38616.0            145.0              281.0         0  \n",
       "7                1   2630.0            152.0              132.0         0  \n",
       "8                0  27285.0            152.0              215.0         0  \n",
       "9                1  38289.0            152.0              225.0         0  "
      ]
     },
     "execution_count": 11,
     "metadata": {},
     "output_type": "execute_result"
    }
   ],
   "source": [
    "#Jenis Kelamin\n",
    "df_train[\"Jenis_Kelamin\"] = df_train[\"Jenis_Kelamin\"].replace([\"Pria\", \"Wanita\"], [1,0])\n",
    "\n",
    "#Umur Kendaraan\n",
    "df_train[\"Umur_Kendaraan\"] = df_train[\"Umur_Kendaraan\"].replace([\"< 1 Tahun\", \"> 2 Tahun\", \"1-2 Tahun\"], [1,2,1.5])\n",
    "\n",
    "#Kendaraan Rusak\n",
    "df_train[\"Kendaraan_Rusak\"] = df_train[\"Kendaraan_Rusak\"].replace([\"Pernah\", \"Tidak\"], [1,0])\n",
    "\n",
    "df_train.head(10)"
   ]
  },
  {
   "cell_type": "markdown",
   "metadata": {},
   "source": [
    "Jenis Kelamin: bila pria maka nilai menjadi angka 1 bila wanita maka nilai menjadi angka 0\n",
    "\n",
    "Umur Kendaraan: bila <1 tahun maka nilai menjadi 1 bila >2 tahun maka nilai menjadi 2 dan bila 1-2 tahun maka nilai menjadi 1.5\n",
    "\n",
    "Kendaraan Rusak: bila rusak maka nilai menjadi angka 1 bila tidak maka nilai menjadi angka 0"
   ]
  },
  {
   "cell_type": "markdown",
   "metadata": {},
   "source": [
    "###### Export dataset"
   ]
  },
  {
   "cell_type": "code",
   "execution_count": 12,
   "metadata": {},
   "outputs": [],
   "source": [
    "df_train.to_csv('kendaraan_train_terolah.csv')"
   ]
  },
  {
   "cell_type": "markdown",
   "metadata": {},
   "source": [
    "###### Scalling"
   ]
  },
  {
   "cell_type": "markdown",
   "metadata": {},
   "source": [
    "Tahap ini diperlukan agar data berada dalam jangkauan yang sama"
   ]
  },
  {
   "cell_type": "code",
   "execution_count": 13,
   "metadata": {},
   "outputs": [
    {
     "data": {
      "text/html": [
       "<div>\n",
       "<style scoped>\n",
       "    .dataframe tbody tr th:only-of-type {\n",
       "        vertical-align: middle;\n",
       "    }\n",
       "\n",
       "    .dataframe tbody tr th {\n",
       "        vertical-align: top;\n",
       "    }\n",
       "\n",
       "    .dataframe thead th {\n",
       "        text-align: right;\n",
       "    }\n",
       "</style>\n",
       "<table border=\"1\" class=\"dataframe\">\n",
       "  <thead>\n",
       "    <tr style=\"text-align: right;\">\n",
       "      <th></th>\n",
       "      <th>Jenis_Kelamin</th>\n",
       "      <th>Umur</th>\n",
       "      <th>SIM</th>\n",
       "      <th>Kode_Daerah</th>\n",
       "      <th>Sudah_Asuransi</th>\n",
       "      <th>Umur_Kendaraan</th>\n",
       "      <th>Kendaraan_Rusak</th>\n",
       "      <th>Premi</th>\n",
       "      <th>Kanal_Penjualan</th>\n",
       "      <th>Lama_Berlangganan</th>\n",
       "      <th>Tertarik</th>\n",
       "    </tr>\n",
       "  </thead>\n",
       "  <tbody>\n",
       "    <tr>\n",
       "      <th>0</th>\n",
       "      <td>0.0</td>\n",
       "      <td>0.153846</td>\n",
       "      <td>1.0</td>\n",
       "      <td>0.634615</td>\n",
       "      <td>1.0</td>\n",
       "      <td>0.0</td>\n",
       "      <td>0.0</td>\n",
       "      <td>0.047251</td>\n",
       "      <td>0.932099</td>\n",
       "      <td>0.301038</td>\n",
       "      <td>0.0</td>\n",
       "    </tr>\n",
       "    <tr>\n",
       "      <th>1</th>\n",
       "      <td>1.0</td>\n",
       "      <td>0.430769</td>\n",
       "      <td>1.0</td>\n",
       "      <td>0.750000</td>\n",
       "      <td>0.0</td>\n",
       "      <td>1.0</td>\n",
       "      <td>1.0</td>\n",
       "      <td>0.043104</td>\n",
       "      <td>0.172840</td>\n",
       "      <td>0.512111</td>\n",
       "      <td>0.0</td>\n",
       "    </tr>\n",
       "    <tr>\n",
       "      <th>2</th>\n",
       "      <td>0.0</td>\n",
       "      <td>0.584615</td>\n",
       "      <td>1.0</td>\n",
       "      <td>0.923077</td>\n",
       "      <td>0.0</td>\n",
       "      <td>0.5</td>\n",
       "      <td>0.0</td>\n",
       "      <td>0.000000</td>\n",
       "      <td>0.759259</td>\n",
       "      <td>0.183391</td>\n",
       "      <td>0.0</td>\n",
       "    </tr>\n",
       "    <tr>\n",
       "      <th>3</th>\n",
       "      <td>1.0</td>\n",
       "      <td>0.015385</td>\n",
       "      <td>1.0</td>\n",
       "      <td>0.673077</td>\n",
       "      <td>1.0</td>\n",
       "      <td>0.0</td>\n",
       "      <td>0.0</td>\n",
       "      <td>0.037402</td>\n",
       "      <td>0.932099</td>\n",
       "      <td>0.557093</td>\n",
       "      <td>0.0</td>\n",
       "    </tr>\n",
       "    <tr>\n",
       "      <th>4</th>\n",
       "      <td>0.0</td>\n",
       "      <td>0.000000</td>\n",
       "      <td>1.0</td>\n",
       "      <td>0.153846</td>\n",
       "      <td>1.0</td>\n",
       "      <td>0.0</td>\n",
       "      <td>0.0</td>\n",
       "      <td>0.052380</td>\n",
       "      <td>0.981481</td>\n",
       "      <td>0.072664</td>\n",
       "      <td>0.0</td>\n",
       "    </tr>\n",
       "    <tr>\n",
       "      <th>...</th>\n",
       "      <td>...</td>\n",
       "      <td>...</td>\n",
       "      <td>...</td>\n",
       "      <td>...</td>\n",
       "      <td>...</td>\n",
       "      <td>...</td>\n",
       "      <td>...</td>\n",
       "      <td>...</td>\n",
       "      <td>...</td>\n",
       "      <td>...</td>\n",
       "      <td>...</td>\n",
       "    </tr>\n",
       "    <tr>\n",
       "      <th>171063</th>\n",
       "      <td>0.0</td>\n",
       "      <td>0.046154</td>\n",
       "      <td>1.0</td>\n",
       "      <td>0.076923</td>\n",
       "      <td>1.0</td>\n",
       "      <td>0.0</td>\n",
       "      <td>0.0</td>\n",
       "      <td>0.043454</td>\n",
       "      <td>0.932099</td>\n",
       "      <td>0.716263</td>\n",
       "      <td>0.0</td>\n",
       "    </tr>\n",
       "    <tr>\n",
       "      <th>171064</th>\n",
       "      <td>0.0</td>\n",
       "      <td>0.015385</td>\n",
       "      <td>1.0</td>\n",
       "      <td>0.884615</td>\n",
       "      <td>1.0</td>\n",
       "      <td>0.0</td>\n",
       "      <td>0.0</td>\n",
       "      <td>0.078239</td>\n",
       "      <td>0.932099</td>\n",
       "      <td>0.138408</td>\n",
       "      <td>0.0</td>\n",
       "    </tr>\n",
       "    <tr>\n",
       "      <th>171065</th>\n",
       "      <td>0.0</td>\n",
       "      <td>0.046154</td>\n",
       "      <td>1.0</td>\n",
       "      <td>0.961538</td>\n",
       "      <td>1.0</td>\n",
       "      <td>0.0</td>\n",
       "      <td>0.0</td>\n",
       "      <td>0.087661</td>\n",
       "      <td>0.932099</td>\n",
       "      <td>0.747405</td>\n",
       "      <td>0.0</td>\n",
       "    </tr>\n",
       "    <tr>\n",
       "      <th>171066</th>\n",
       "      <td>1.0</td>\n",
       "      <td>0.738462</td>\n",
       "      <td>1.0</td>\n",
       "      <td>0.134615</td>\n",
       "      <td>1.0</td>\n",
       "      <td>0.5</td>\n",
       "      <td>0.0</td>\n",
       "      <td>0.051853</td>\n",
       "      <td>0.759259</td>\n",
       "      <td>0.899654</td>\n",
       "      <td>0.0</td>\n",
       "    </tr>\n",
       "    <tr>\n",
       "      <th>171067</th>\n",
       "      <td>1.0</td>\n",
       "      <td>0.384615</td>\n",
       "      <td>1.0</td>\n",
       "      <td>0.538462</td>\n",
       "      <td>0.0</td>\n",
       "      <td>0.5</td>\n",
       "      <td>1.0</td>\n",
       "      <td>0.062973</td>\n",
       "      <td>0.154321</td>\n",
       "      <td>0.117647</td>\n",
       "      <td>0.0</td>\n",
       "    </tr>\n",
       "  </tbody>\n",
       "</table>\n",
       "<p>171068 rows × 11 columns</p>\n",
       "</div>"
      ],
      "text/plain": [
       "        Jenis_Kelamin      Umur  SIM  Kode_Daerah  Sudah_Asuransi  \\\n",
       "0                 0.0  0.153846  1.0     0.634615             1.0   \n",
       "1                 1.0  0.430769  1.0     0.750000             0.0   \n",
       "2                 0.0  0.584615  1.0     0.923077             0.0   \n",
       "3                 1.0  0.015385  1.0     0.673077             1.0   \n",
       "4                 0.0  0.000000  1.0     0.153846             1.0   \n",
       "...               ...       ...  ...          ...             ...   \n",
       "171063            0.0  0.046154  1.0     0.076923             1.0   \n",
       "171064            0.0  0.015385  1.0     0.884615             1.0   \n",
       "171065            0.0  0.046154  1.0     0.961538             1.0   \n",
       "171066            1.0  0.738462  1.0     0.134615             1.0   \n",
       "171067            1.0  0.384615  1.0     0.538462             0.0   \n",
       "\n",
       "        Umur_Kendaraan  Kendaraan_Rusak     Premi  Kanal_Penjualan  \\\n",
       "0                  0.0              0.0  0.047251         0.932099   \n",
       "1                  1.0              1.0  0.043104         0.172840   \n",
       "2                  0.5              0.0  0.000000         0.759259   \n",
       "3                  0.0              0.0  0.037402         0.932099   \n",
       "4                  0.0              0.0  0.052380         0.981481   \n",
       "...                ...              ...       ...              ...   \n",
       "171063             0.0              0.0  0.043454         0.932099   \n",
       "171064             0.0              0.0  0.078239         0.932099   \n",
       "171065             0.0              0.0  0.087661         0.932099   \n",
       "171066             0.5              0.0  0.051853         0.759259   \n",
       "171067             0.5              1.0  0.062973         0.154321   \n",
       "\n",
       "        Lama_Berlangganan  Tertarik  \n",
       "0                0.301038       0.0  \n",
       "1                0.512111       0.0  \n",
       "2                0.183391       0.0  \n",
       "3                0.557093       0.0  \n",
       "4                0.072664       0.0  \n",
       "...                   ...       ...  \n",
       "171063           0.716263       0.0  \n",
       "171064           0.138408       0.0  \n",
       "171065           0.747405       0.0  \n",
       "171066           0.899654       0.0  \n",
       "171067           0.117647       0.0  \n",
       "\n",
       "[171068 rows x 11 columns]"
      ]
     },
     "execution_count": 13,
     "metadata": {},
     "output_type": "execute_result"
    }
   ],
   "source": [
    "from sklearn.preprocessing import MinMaxScaler\n",
    "\n",
    "scaler = MinMaxScaler()\n",
    "df_train = pd.DataFrame(scaler.fit_transform(df_train), columns=df_train.columns)\n",
    "df_train"
   ]
  },
  {
   "cell_type": "markdown",
   "metadata": {},
   "source": [
    "###### Mengecek Korelasi antar Kolom / Variabel"
   ]
  },
  {
   "cell_type": "markdown",
   "metadata": {},
   "source": [
    "Korelasi menggambarkan hubungan antar variabel dengan variabel lainnya, tahap ini diperlukan untuk mengetahui pasangan kolom yang dapat dilakukan clustering untuk mendapatkan gambaran lebih jelas"
   ]
  },
  {
   "cell_type": "code",
   "execution_count": 14,
   "metadata": {},
   "outputs": [
    {
     "data": {
      "image/png": "[encoded data removed]",
      "text/plain": [
       "<Figure size 1152x432 with 2 Axes>"
      ]
     },
     "metadata": {
      "needs_background": "light"
     },
     "output_type": "display_data"
    }
   ],
   "source": [
    "plt.figure(figsize=(16, 6))\n",
    "sns.heatmap(df_train.corr(), annot = True)\n",
    "plt.title(\"korelasi antar variabel dengan representasi angka\", fontweight=\"bold\",y=1.1)\n",
    "plt.show()"
   ]
  },
  {
   "cell_type": "markdown",
   "metadata": {},
   "source": [
    "###### Splitting Dataset"
   ]
  },
  {
   "cell_type": "markdown",
   "metadata": {},
   "source": [
    "Mengambil kolom umur dan kanal_penjualan untuk dijadikan feature"
   ]
  },
  {
   "cell_type": "code",
   "execution_count": 15,
   "metadata": {},
   "outputs": [
    {
     "data": {
      "text/plain": [
       "array([[0.15384615, 0.93209877],\n",
       "       [0.43076923, 0.17283951],\n",
       "       [0.58461538, 0.75925926],\n",
       "       ...,\n",
       "       [0.04615385, 0.93209877],\n",
       "       [0.73846154, 0.75925926],\n",
       "       [0.38461538, 0.15432099]])"
      ]
     },
     "execution_count": 15,
     "metadata": {},
     "output_type": "execute_result"
    }
   ],
   "source": [
    "x = df_train.iloc[:, [1,8]].values\n",
    "x"
   ]
  },
  {
   "cell_type": "markdown",
   "metadata": {},
   "source": [
    "x berisi array 2 dimensi yang akan kita cluster"
   ]
  },
  {
   "cell_type": "markdown",
   "metadata": {},
   "source": [
    "###### Visualisasi ditribusi data"
   ]
  },
  {
   "cell_type": "code",
   "execution_count": 16,
   "metadata": {},
   "outputs": [
    {
     "data": {
      "text/plain": [
       "<matplotlib.collections.PathCollection at 0x18cb52d5820>"
      ]
     },
     "execution_count": 16,
     "metadata": {},
     "output_type": "execute_result"
    },
    {
     "data": {
      "image/png": "[encoded data removed]",
      "text/plain": [
       "<Figure size 432x288 with 1 Axes>"
      ]
     },
     "metadata": {
      "needs_background": "light"
     },
     "output_type": "display_data"
    }
   ],
   "source": [
    "plt.scatter(x[:,0],x[:,1])"
   ]
  },
  {
   "cell_type": "markdown",
   "metadata": {},
   "source": [
    "Plot dengan scatterplot untuk penggambaran persebaran data"
   ]
  },
  {
   "cell_type": "markdown",
   "metadata": {},
   "source": [
    "### Pemodelan"
   ]
  },
  {
   "cell_type": "markdown",
   "metadata": {},
   "source": [
    "###### Membuat fungsi hitung jarak"
   ]
  },
  {
   "cell_type": "markdown",
   "metadata": {},
   "source": [
    "Menggunakan rumus euclidean distance"
   ]
  },
  {
   "cell_type": "code",
   "execution_count": 17,
   "metadata": {},
   "outputs": [],
   "source": [
    "def hitung_jarak(x1,x2):\n",
    "    return (sum((x1 - x2)**2)**0.5)"
   ]
  },
  {
   "cell_type": "markdown",
   "metadata": {},
   "source": [
    "###### Membuat fungsi untuk mengelompokkan data kedalam cluster"
   ]
  },
  {
   "cell_type": "markdown",
   "metadata": {},
   "source": [
    "Mengembalikan list yang berisi cluster dari setiap dataset"
   ]
  },
  {
   "cell_type": "code",
   "execution_count": 18,
   "metadata": {},
   "outputs": [],
   "source": [
    "def clustering(centroids, x):\n",
    "    clusters = []\n",
    "    for i in range(len(x)):\n",
    "        jarak = []\n",
    "        for centroid in centroids:\n",
    "            jarak.append(hitung_jarak(centroid, x[i]))\n",
    "        jarak_terpendek = [z for z, val in enumerate(jarak) if val==min(jarak)]\n",
    "        clusters.append(jarak_terpendek[0])\n",
    "    return np.array(clusters)"
   ]
  },
  {
   "cell_type": "markdown",
   "metadata": {},
   "source": [
    "Dengan cara membuat array cluster yang akan menampung cluster dari tiap observasi, lalu membuat array jarak untuk menampung jarak antara setiap baris data observasi dengan setiap centroid. Kemudian membuat variable jarak_terpendek yang menyimpan hanya indeks dari nilai terkecil variabel jarak. indeks dari jarak terpendek ialah cluster dari data observasi. indeks akan disimpan pada array cluster"
   ]
  },
  {
   "cell_type": "markdown",
   "metadata": {},
   "source": [
    "###### Membuat fungsi untuk membuat centroid baru"
   ]
  },
  {
   "cell_type": "code",
   "execution_count": 19,
   "metadata": {},
   "outputs": [],
   "source": [
    "def buat_centroid(clusters, x):\n",
    "    centroid_baru = []\n",
    "    df_clusters_x = pd.concat([pd.DataFrame(x),pd.DataFrame(clusters, columns=['cluster'])], axis=1)\n",
    "    for c in set(df_clusters_x['cluster']):\n",
    "        df_current_cluster = df_clusters_x[df_clusters_x['cluster']==c][df_clusters_x.columns[:-1]]\n",
    "        ratarata_cluster = df_current_cluster.mean(axis=0)\n",
    "        centroid_baru.append(ratarata_cluster)\n",
    "    return np.array(centroid_baru)"
   ]
  },
  {
   "cell_type": "markdown",
   "metadata": {},
   "source": [
    "Untuk mendapatkan centroid baru, mula-mula dibuat dataframe yang berisi 2 kolom feature dari data observasi dan 1 kolom berisi cluster dari data tersebut. Lalu looping sebanyak jumlah cluster pada kolom cluster dataframe. Di dalam loop dilakukan perhitungan rata-rata cluster dengan menghitung rata-rata dataframe yang berisi data observasi ke[i] (data observasi yang sedang diakses) tanpa adanya kolom cluster\n",
    "\n",
    "rata-rata cluster akan disimpan di dalam variable centroid_baru. centroid baru akan berisi array 2 dimensi yang merupakan rata-rata dari data observasi. Sehingga rata-rata cluster akan menjadi centroid_baru"
   ]
  },
  {
   "cell_type": "code",
   "execution_count": 52,
   "metadata": {},
   "outputs": [
    {
     "data": {
      "text/html": [
       "<div>\n",
       "<style scoped>\n",
       "    .dataframe tbody tr th:only-of-type {\n",
       "        vertical-align: middle;\n",
       "    }\n",
       "\n",
       "    .dataframe tbody tr th {\n",
       "        vertical-align: top;\n",
       "    }\n",
       "\n",
       "    .dataframe thead th {\n",
       "        text-align: right;\n",
       "    }\n",
       "</style>\n",
       "<table border=\"1\" class=\"dataframe\">\n",
       "  <thead>\n",
       "    <tr style=\"text-align: right;\">\n",
       "      <th></th>\n",
       "      <th>0</th>\n",
       "      <th>1</th>\n",
       "      <th>cluster</th>\n",
       "    </tr>\n",
       "  </thead>\n",
       "  <tbody>\n",
       "    <tr>\n",
       "      <th>0</th>\n",
       "      <td>-2.142521</td>\n",
       "      <td>0.177970</td>\n",
       "      <td>1</td>\n",
       "    </tr>\n",
       "    <tr>\n",
       "      <th>1</th>\n",
       "      <td>2.869474</td>\n",
       "      <td>0.819728</td>\n",
       "      <td>3</td>\n",
       "    </tr>\n",
       "    <tr>\n",
       "      <th>2</th>\n",
       "      <td>0.483532</td>\n",
       "      <td>0.450249</td>\n",
       "      <td>0</td>\n",
       "    </tr>\n",
       "    <tr>\n",
       "      <th>3</th>\n",
       "      <td>-2.130995</td>\n",
       "      <td>0.118768</td>\n",
       "      <td>1</td>\n",
       "    </tr>\n",
       "    <tr>\n",
       "      <th>4</th>\n",
       "      <td>-2.544863</td>\n",
       "      <td>-0.194379</td>\n",
       "      <td>1</td>\n",
       "    </tr>\n",
       "    <tr>\n",
       "      <th>...</th>\n",
       "      <td>...</td>\n",
       "      <td>...</td>\n",
       "      <td>...</td>\n",
       "    </tr>\n",
       "    <tr>\n",
       "      <th>171063</th>\n",
       "      <td>-2.435063</td>\n",
       "      <td>-0.120349</td>\n",
       "      <td>1</td>\n",
       "    </tr>\n",
       "    <tr>\n",
       "      <th>171064</th>\n",
       "      <td>-2.305024</td>\n",
       "      <td>0.140757</td>\n",
       "      <td>1</td>\n",
       "    </tr>\n",
       "    <tr>\n",
       "      <th>171065</th>\n",
       "      <td>-2.226704</td>\n",
       "      <td>0.252208</td>\n",
       "      <td>1</td>\n",
       "    </tr>\n",
       "    <tr>\n",
       "      <th>171066</th>\n",
       "      <td>0.151343</td>\n",
       "      <td>2.015994</td>\n",
       "      <td>0</td>\n",
       "    </tr>\n",
       "    <tr>\n",
       "      <th>171067</th>\n",
       "      <td>1.964714</td>\n",
       "      <td>0.364531</td>\n",
       "      <td>3</td>\n",
       "    </tr>\n",
       "  </tbody>\n",
       "</table>\n",
       "<p>171068 rows × 3 columns</p>\n",
       "</div>"
      ],
      "text/plain": [
       "               0         1  cluster\n",
       "0      -2.142521  0.177970        1\n",
       "1       2.869474  0.819728        3\n",
       "2       0.483532  0.450249        0\n",
       "3      -2.130995  0.118768        1\n",
       "4      -2.544863 -0.194379        1\n",
       "...          ...       ...      ...\n",
       "171063 -2.435063 -0.120349        1\n",
       "171064 -2.305024  0.140757        1\n",
       "171065 -2.226704  0.252208        1\n",
       "171066  0.151343  2.015994        0\n",
       "171067  1.964714  0.364531        3\n",
       "\n",
       "[171068 rows x 3 columns]"
      ]
     },
     "execution_count": 52,
     "metadata": {},
     "output_type": "execute_result"
    }
   ],
   "source": [
    "df_clusters_x"
   ]
  },
  {
   "cell_type": "markdown",
   "metadata": {},
   "source": [
    "###### Membuat fungsi untuk mencari varians dari suatu cluster"
   ]
  },
  {
   "cell_type": "markdown",
   "metadata": {},
   "source": [
    "Varians pada cluster digunakan sebagai tolak ukur baik tidaknya clustering "
   ]
  },
  {
   "cell_type": "markdown",
   "metadata": {},
   "source": [
    "Rumus Varians"
   ]
  },
  {
   "attachments": {
    "image.png": {
     "image/png": "[encoded data removed]"
    }
   },
   "cell_type": "markdown",
   "metadata": {},
   "source": [
    "![image.png](attachment:image.png)"
   ]
  },
  {
   "cell_type": "code",
   "execution_count": 20,
   "metadata": {},
   "outputs": [],
   "source": [
    "def varians_cluster(clusters, x):\n",
    "    varians = []\n",
    "    df_clusters_x = pd.concat([pd.DataFrame(x),pd.DataFrame(clusters, columns=['cluster'])], axis=1)\n",
    "    for c in set(df_clusters_x['cluster']):\n",
    "        df_current_cluster = df_clusters_x[df_clusters_x['cluster'] ==c][df_clusters_x.columns[:-1]]\n",
    "        ratarata_cluster = df_current_cluster.mean(axis=0)\n",
    "        mean_repmat = np.matlib.repmat(ratarata_cluster, df_current_cluster.shape[0],1)\n",
    "        varians.append(np.sum(np.sum((df_current_cluster - mean_repmat)**2)))\n",
    "    return np.array(varians)"
   ]
  },
  {
   "cell_type": "markdown",
   "metadata": {},
   "source": [
    "dengan cara membuat array kosong bernama varians. lalu membuat dataframe yang menampung cluster dan data observasi. Lalu looping sebanyak cluster pada kolom cluster dataframe. Di dalam looping akan dihitung rata-rata cluster lalu mengurangkannya dengan setiap data observasi. rata rata dari seluruh cluster dapat diperoleh melalui fungsi repmat yang mereplika array"
   ]
  },
  {
   "cell_type": "code",
   "execution_count": 21,
   "metadata": {},
   "outputs": [],
   "source": [
    "def elbow_method(WCSS, k):\n",
    "    plt.plot(range(1,k+1),WCSS)\n",
    "    plt.title('The Elbow Method')\n",
    "    plt.xlabel(\"Jumlah Cluster\")\n",
    "    plt.ylabel(\"WCSS\")\n",
    "    plt.show()"
   ]
  },
  {
   "cell_type": "markdown",
   "metadata": {},
   "source": [
    "###### Melakukan K-Means"
   ]
  },
  {
   "cell_type": "code",
   "execution_count": 22,
   "metadata": {},
   "outputs": [
    {
     "name": "stdout",
     "output_type": "stream",
     "text": [
      "Varians cluster awal 2625 pada K: 1\n",
      "Varians pada percobaan clustering Ke- 1 1763\n",
      "Varians pada percobaan clustering Ke- 2 962\n",
      "WCSS Cluster dengan K = 1 : 2725 \n",
      "\n",
      "Varians cluster awal 962 pada K: 2\n",
      "Varians pada percobaan clustering Ke- 1 734\n",
      "Varians pada percobaan clustering Ke- 2 704\n",
      "WCSS Cluster dengan K = 2 : 1437 \n",
      "\n",
      "Varians cluster awal 704 pada K: 3\n",
      "Varians pada percobaan clustering Ke- 1 679\n",
      "Varians pada percobaan clustering Ke- 2 646\n",
      "WCSS Cluster dengan K = 3 : 1325 \n",
      "\n",
      "Varians cluster awal 646 pada K: 4\n",
      "Varians pada percobaan clustering Ke- 1 612\n",
      "Varians pada percobaan clustering Ke- 2 589\n",
      "WCSS Cluster dengan K = 4 : 1201 \n",
      "\n",
      "Varians cluster awal 589 pada K: 5\n",
      "Varians pada percobaan clustering Ke- 1 574\n",
      "Varians pada percobaan clustering Ke- 2 566\n",
      "WCSS Cluster dengan K = 5 : 1139 \n",
      "\n"
     ]
    },
    {
     "data": {
      "image/png": "[encoded data removed]",
      "text/plain": [
       "<Figure size 432x288 with 1 Axes>"
      ]
     },
     "metadata": {
      "needs_background": "light"
     },
     "output_type": "display_data"
    },
    {
     "name": "stdout",
     "output_type": "stream",
     "text": [
      "Wall time: 1min 13s\n"
     ]
    }
   ],
   "source": [
    "%%time\n",
    "k = 5\n",
    "WCSS = []\n",
    "centroid_awal = np.random.choice(len(x), k, replace=False)\n",
    "centroids = x[centroid_awal, :]\n",
    "#Looping K\n",
    "for i in range (1,k+1):\n",
    "    variansCluster = []\n",
    "    clusters = clustering(centroids, x)\n",
    "    print(\"Varians cluster awal\", round(np.mean(varians_cluster(clusters, x))), \"pada K:\",i )\n",
    "    \n",
    "    #Looping Percobaan Clustering\n",
    "    for j in range(2):\n",
    "        centroids = buat_centroid(clusters,x)\n",
    "        clusters = clustering(centroids, x)\n",
    "        cluster_var = np.mean(varians_cluster(clusters, x))\n",
    "        variansCluster.append(cluster_var)\n",
    "        print(\"Varians pada percobaan clustering Ke-\",j+1, round(cluster_var))\n",
    "    WCSS.append(np.sum(variansCluster))\n",
    "    print(\"WCSS Cluster dengan K =\",i,\":\",round(WCSS[i-1]),\"\\n\")\n",
    "\n",
    "elbow_method(WCSS,k)"
   ]
  },
  {
   "cell_type": "markdown",
   "metadata": {},
   "source": [
    "###### Visualisasi K-Means"
   ]
  },
  {
   "cell_type": "code",
   "execution_count": 23,
   "metadata": {},
   "outputs": [
    {
     "data": {
      "image/png": "[encoded data removed]",
      "text/plain": [
       "<Figure size 432x288 with 1 Axes>"
      ]
     },
     "metadata": {
      "needs_background": "light"
     },
     "output_type": "display_data"
    }
   ],
   "source": [
    "df_clusters_x = pd.concat([pd.DataFrame(x),pd.DataFrame(clusters, columns=['cluster'])], axis=1)\n",
    "label = df_clusters_x['cluster']\n",
    "u_labels = np.unique(label)\n",
    "for i in range(len(u_labels)):\n",
    "    plt.scatter(x[label == i , 0] , x[label == i , 1] , label = i+1, s = 100)\n",
    "plt.scatter(centroids[:,0], centroids[:,1], marker = 'D', s = 200, label = 'Centroids')\n",
    "plt.title('K-Means Clustering dengan {} cluster'.format(k))\n",
    "plt.legend(bbox_to_anchor=(1.1, 1), title = 'Clusters')\n",
    "plt.show()"
   ]
  },
  {
   "cell_type": "markdown",
   "metadata": {},
   "source": [
    "### Evaluasi"
   ]
  },
  {
   "cell_type": "markdown",
   "metadata": {},
   "source": [
    "Menggunakan Silhouette Method"
   ]
  },
  {
   "cell_type": "code",
   "execution_count": 24,
   "metadata": {},
   "outputs": [
    {
     "name": "stdout",
     "output_type": "stream",
     "text": [
      "Nilai Silhoutte Method untuk, n_clusters = 1 adalah 0.8889103356337218\n",
      "Nilai Silhoutte Method untuk, n_clusters = 2 adalah 0.8889103356337218\n",
      "Nilai Silhoutte Method untuk, n_clusters = 3 adalah 0.8889103356337218\n",
      "Nilai Silhoutte Method untuk, n_clusters = 4 adalah 0.8889103356337218\n",
      "Nilai Silhoutte Method untuk, n_clusters = 5 adalah 0.8889103356337218\n",
      "Wall time: 37min 32s\n"
     ]
    }
   ],
   "source": [
    "%%time\n",
    "from sklearn.metrics import silhouette_score\n",
    "\n",
    "skor_silhouette = []\n",
    "\n",
    "for n_cluster in range(k):\n",
    "    koefisien_silhouette = silhouette_score(df_clusters_x, df_clusters_x['cluster'], metric = 'euclidean')\n",
    "    skor_silhouette.append(koefisien_silhouette)\n",
    "    print('Nilai Silhoutte Method untuk, n_clusters = {} adalah {}'.format(n_cluster+1, koefisien_silhouette))"
   ]
  },
  {
   "cell_type": "markdown",
   "metadata": {},
   "source": [
    "### Ekperimen"
   ]
  },
  {
   "cell_type": "markdown",
   "metadata": {},
   "source": [
    "Melakukan uji coba dengan melakukan: \n",
    "\n",
    "-scalling metode standarisasi, dimana pada proses sebelumnya metode yang digunakan adalah minmax\n",
    "\n",
    "-menggunakan pca untuk pemilihan feature\n",
    "\n",
    "-cluster = 4"
   ]
  },
  {
   "cell_type": "markdown",
   "metadata": {},
   "source": [
    "#### Eksplorasi Data"
   ]
  },
  {
   "cell_type": "markdown",
   "metadata": {},
   "source": [
    "###### Import Dataset"
   ]
  },
  {
   "cell_type": "code",
   "execution_count": 25,
   "metadata": {},
   "outputs": [],
   "source": [
    "df_train_ex = pd.read_csv(\"kendaraan_train.csv\")"
   ]
  },
  {
   "cell_type": "code",
   "execution_count": 26,
   "metadata": {},
   "outputs": [
    {
     "data": {
      "text/html": [
       "<div>\n",
       "<style scoped>\n",
       "    .dataframe tbody tr th:only-of-type {\n",
       "        vertical-align: middle;\n",
       "    }\n",
       "\n",
       "    .dataframe tbody tr th {\n",
       "        vertical-align: top;\n",
       "    }\n",
       "\n",
       "    .dataframe thead th {\n",
       "        text-align: right;\n",
       "    }\n",
       "</style>\n",
       "<table border=\"1\" class=\"dataframe\">\n",
       "  <thead>\n",
       "    <tr style=\"text-align: right;\">\n",
       "      <th></th>\n",
       "      <th>id</th>\n",
       "      <th>Jenis_Kelamin</th>\n",
       "      <th>Umur</th>\n",
       "      <th>SIM</th>\n",
       "      <th>Kode_Daerah</th>\n",
       "      <th>Sudah_Asuransi</th>\n",
       "      <th>Umur_Kendaraan</th>\n",
       "      <th>Kendaraan_Rusak</th>\n",
       "      <th>Premi</th>\n",
       "      <th>Kanal_Penjualan</th>\n",
       "      <th>Lama_Berlangganan</th>\n",
       "      <th>Tertarik</th>\n",
       "    </tr>\n",
       "  </thead>\n",
       "  <tbody>\n",
       "    <tr>\n",
       "      <th>0</th>\n",
       "      <td>1</td>\n",
       "      <td>Wanita</td>\n",
       "      <td>30.0</td>\n",
       "      <td>1.0</td>\n",
       "      <td>33.0</td>\n",
       "      <td>1.0</td>\n",
       "      <td>&lt; 1 Tahun</td>\n",
       "      <td>Tidak</td>\n",
       "      <td>28029.0</td>\n",
       "      <td>152.0</td>\n",
       "      <td>97.0</td>\n",
       "      <td>0</td>\n",
       "    </tr>\n",
       "    <tr>\n",
       "      <th>1</th>\n",
       "      <td>2</td>\n",
       "      <td>Pria</td>\n",
       "      <td>48.0</td>\n",
       "      <td>1.0</td>\n",
       "      <td>39.0</td>\n",
       "      <td>0.0</td>\n",
       "      <td>&gt; 2 Tahun</td>\n",
       "      <td>Pernah</td>\n",
       "      <td>25800.0</td>\n",
       "      <td>29.0</td>\n",
       "      <td>158.0</td>\n",
       "      <td>0</td>\n",
       "    </tr>\n",
       "    <tr>\n",
       "      <th>2</th>\n",
       "      <td>3</td>\n",
       "      <td>NaN</td>\n",
       "      <td>21.0</td>\n",
       "      <td>1.0</td>\n",
       "      <td>46.0</td>\n",
       "      <td>1.0</td>\n",
       "      <td>&lt; 1 Tahun</td>\n",
       "      <td>Tidak</td>\n",
       "      <td>32733.0</td>\n",
       "      <td>160.0</td>\n",
       "      <td>119.0</td>\n",
       "      <td>0</td>\n",
       "    </tr>\n",
       "    <tr>\n",
       "      <th>3</th>\n",
       "      <td>4</td>\n",
       "      <td>Wanita</td>\n",
       "      <td>58.0</td>\n",
       "      <td>1.0</td>\n",
       "      <td>48.0</td>\n",
       "      <td>0.0</td>\n",
       "      <td>1-2 Tahun</td>\n",
       "      <td>Tidak</td>\n",
       "      <td>2630.0</td>\n",
       "      <td>124.0</td>\n",
       "      <td>63.0</td>\n",
       "      <td>0</td>\n",
       "    </tr>\n",
       "    <tr>\n",
       "      <th>4</th>\n",
       "      <td>5</td>\n",
       "      <td>Pria</td>\n",
       "      <td>50.0</td>\n",
       "      <td>1.0</td>\n",
       "      <td>35.0</td>\n",
       "      <td>0.0</td>\n",
       "      <td>&gt; 2 Tahun</td>\n",
       "      <td>NaN</td>\n",
       "      <td>34857.0</td>\n",
       "      <td>88.0</td>\n",
       "      <td>194.0</td>\n",
       "      <td>0</td>\n",
       "    </tr>\n",
       "  </tbody>\n",
       "</table>\n",
       "</div>"
      ],
      "text/plain": [
       "   id Jenis_Kelamin  Umur  SIM  Kode_Daerah  Sudah_Asuransi Umur_Kendaraan  \\\n",
       "0   1        Wanita  30.0  1.0         33.0             1.0      < 1 Tahun   \n",
       "1   2          Pria  48.0  1.0         39.0             0.0      > 2 Tahun   \n",
       "2   3           NaN  21.0  1.0         46.0             1.0      < 1 Tahun   \n",
       "3   4        Wanita  58.0  1.0         48.0             0.0      1-2 Tahun   \n",
       "4   5          Pria  50.0  1.0         35.0             0.0      > 2 Tahun   \n",
       "\n",
       "  Kendaraan_Rusak    Premi  Kanal_Penjualan  Lama_Berlangganan  Tertarik  \n",
       "0           Tidak  28029.0            152.0               97.0         0  \n",
       "1          Pernah  25800.0             29.0              158.0         0  \n",
       "2           Tidak  32733.0            160.0              119.0         0  \n",
       "3           Tidak   2630.0            124.0               63.0         0  \n",
       "4             NaN  34857.0             88.0              194.0         0  "
      ]
     },
     "execution_count": 26,
     "metadata": {},
     "output_type": "execute_result"
    }
   ],
   "source": [
    "df_train_ex.head()"
   ]
  },
  {
   "cell_type": "code",
   "execution_count": 27,
   "metadata": {},
   "outputs": [
    {
     "data": {
      "text/plain": [
       "(285831, 12)"
      ]
     },
     "execution_count": 27,
     "metadata": {},
     "output_type": "execute_result"
    }
   ],
   "source": [
    "df_train_ex.shape"
   ]
  },
  {
   "cell_type": "code",
   "execution_count": 28,
   "metadata": {},
   "outputs": [
    {
     "name": "stdout",
     "output_type": "stream",
     "text": [
      "<class 'pandas.core.frame.DataFrame'>\n",
      "RangeIndex: 285831 entries, 0 to 285830\n",
      "Data columns (total 12 columns):\n",
      " #   Column             Non-Null Count   Dtype  \n",
      "---  ------             --------------   -----  \n",
      " 0   id                 285831 non-null  int64  \n",
      " 1   Jenis_Kelamin      271391 non-null  object \n",
      " 2   Umur               271617 non-null  float64\n",
      " 3   SIM                271427 non-null  float64\n",
      " 4   Kode_Daerah        271525 non-null  float64\n",
      " 5   Sudah_Asuransi     271602 non-null  float64\n",
      " 6   Umur_Kendaraan     271556 non-null  object \n",
      " 7   Kendaraan_Rusak    271643 non-null  object \n",
      " 8   Premi              271262 non-null  float64\n",
      " 9   Kanal_Penjualan    271532 non-null  float64\n",
      " 10  Lama_Berlangganan  271839 non-null  float64\n",
      " 11  Tertarik           285831 non-null  int64  \n",
      "dtypes: float64(7), int64(2), object(3)\n",
      "memory usage: 26.2+ MB\n"
     ]
    }
   ],
   "source": [
    "df_train_ex.info()"
   ]
  },
  {
   "cell_type": "code",
   "execution_count": 29,
   "metadata": {},
   "outputs": [
    {
     "data": {
      "text/html": [
       "<div>\n",
       "<style scoped>\n",
       "    .dataframe tbody tr th:only-of-type {\n",
       "        vertical-align: middle;\n",
       "    }\n",
       "\n",
       "    .dataframe tbody tr th {\n",
       "        vertical-align: top;\n",
       "    }\n",
       "\n",
       "    .dataframe thead th {\n",
       "        text-align: right;\n",
       "    }\n",
       "</style>\n",
       "<table border=\"1\" class=\"dataframe\">\n",
       "  <thead>\n",
       "    <tr style=\"text-align: right;\">\n",
       "      <th></th>\n",
       "      <th>id</th>\n",
       "      <th>Umur</th>\n",
       "      <th>SIM</th>\n",
       "      <th>Kode_Daerah</th>\n",
       "      <th>Sudah_Asuransi</th>\n",
       "      <th>Premi</th>\n",
       "      <th>Kanal_Penjualan</th>\n",
       "      <th>Lama_Berlangganan</th>\n",
       "      <th>Tertarik</th>\n",
       "    </tr>\n",
       "  </thead>\n",
       "  <tbody>\n",
       "    <tr>\n",
       "      <th>count</th>\n",
       "      <td>285831.000000</td>\n",
       "      <td>271617.000000</td>\n",
       "      <td>271427.000000</td>\n",
       "      <td>271525.000000</td>\n",
       "      <td>271602.000000</td>\n",
       "      <td>271262.000000</td>\n",
       "      <td>271532.000000</td>\n",
       "      <td>271839.000000</td>\n",
       "      <td>285831.000000</td>\n",
       "    </tr>\n",
       "    <tr>\n",
       "      <th>mean</th>\n",
       "      <td>142916.000000</td>\n",
       "      <td>38.844336</td>\n",
       "      <td>0.997848</td>\n",
       "      <td>26.405410</td>\n",
       "      <td>0.458778</td>\n",
       "      <td>30536.683472</td>\n",
       "      <td>112.021567</td>\n",
       "      <td>154.286302</td>\n",
       "      <td>0.122471</td>\n",
       "    </tr>\n",
       "    <tr>\n",
       "      <th>std</th>\n",
       "      <td>82512.446734</td>\n",
       "      <td>15.522487</td>\n",
       "      <td>0.046335</td>\n",
       "      <td>13.252714</td>\n",
       "      <td>0.498299</td>\n",
       "      <td>17155.000770</td>\n",
       "      <td>54.202457</td>\n",
       "      <td>83.694910</td>\n",
       "      <td>0.327830</td>\n",
       "    </tr>\n",
       "    <tr>\n",
       "      <th>min</th>\n",
       "      <td>1.000000</td>\n",
       "      <td>20.000000</td>\n",
       "      <td>0.000000</td>\n",
       "      <td>0.000000</td>\n",
       "      <td>0.000000</td>\n",
       "      <td>2630.000000</td>\n",
       "      <td>1.000000</td>\n",
       "      <td>10.000000</td>\n",
       "      <td>0.000000</td>\n",
       "    </tr>\n",
       "    <tr>\n",
       "      <th>25%</th>\n",
       "      <td>71458.500000</td>\n",
       "      <td>25.000000</td>\n",
       "      <td>1.000000</td>\n",
       "      <td>15.000000</td>\n",
       "      <td>0.000000</td>\n",
       "      <td>24398.000000</td>\n",
       "      <td>29.000000</td>\n",
       "      <td>82.000000</td>\n",
       "      <td>0.000000</td>\n",
       "    </tr>\n",
       "    <tr>\n",
       "      <th>50%</th>\n",
       "      <td>142916.000000</td>\n",
       "      <td>36.000000</td>\n",
       "      <td>1.000000</td>\n",
       "      <td>28.000000</td>\n",
       "      <td>0.000000</td>\n",
       "      <td>31646.000000</td>\n",
       "      <td>132.000000</td>\n",
       "      <td>154.000000</td>\n",
       "      <td>0.000000</td>\n",
       "    </tr>\n",
       "    <tr>\n",
       "      <th>75%</th>\n",
       "      <td>214373.500000</td>\n",
       "      <td>49.000000</td>\n",
       "      <td>1.000000</td>\n",
       "      <td>35.000000</td>\n",
       "      <td>1.000000</td>\n",
       "      <td>39377.750000</td>\n",
       "      <td>152.000000</td>\n",
       "      <td>227.000000</td>\n",
       "      <td>0.000000</td>\n",
       "    </tr>\n",
       "    <tr>\n",
       "      <th>max</th>\n",
       "      <td>285831.000000</td>\n",
       "      <td>85.000000</td>\n",
       "      <td>1.000000</td>\n",
       "      <td>52.000000</td>\n",
       "      <td>1.000000</td>\n",
       "      <td>540165.000000</td>\n",
       "      <td>163.000000</td>\n",
       "      <td>299.000000</td>\n",
       "      <td>1.000000</td>\n",
       "    </tr>\n",
       "  </tbody>\n",
       "</table>\n",
       "</div>"
      ],
      "text/plain": [
       "                  id           Umur            SIM    Kode_Daerah  \\\n",
       "count  285831.000000  271617.000000  271427.000000  271525.000000   \n",
       "mean   142916.000000      38.844336       0.997848      26.405410   \n",
       "std     82512.446734      15.522487       0.046335      13.252714   \n",
       "min         1.000000      20.000000       0.000000       0.000000   \n",
       "25%     71458.500000      25.000000       1.000000      15.000000   \n",
       "50%    142916.000000      36.000000       1.000000      28.000000   \n",
       "75%    214373.500000      49.000000       1.000000      35.000000   \n",
       "max    285831.000000      85.000000       1.000000      52.000000   \n",
       "\n",
       "       Sudah_Asuransi          Premi  Kanal_Penjualan  Lama_Berlangganan  \\\n",
       "count   271602.000000  271262.000000    271532.000000      271839.000000   \n",
       "mean         0.458778   30536.683472       112.021567         154.286302   \n",
       "std          0.498299   17155.000770        54.202457          83.694910   \n",
       "min          0.000000    2630.000000         1.000000          10.000000   \n",
       "25%          0.000000   24398.000000        29.000000          82.000000   \n",
       "50%          0.000000   31646.000000       132.000000         154.000000   \n",
       "75%          1.000000   39377.750000       152.000000         227.000000   \n",
       "max          1.000000  540165.000000       163.000000         299.000000   \n",
       "\n",
       "            Tertarik  \n",
       "count  285831.000000  \n",
       "mean        0.122471  \n",
       "std         0.327830  \n",
       "min         0.000000  \n",
       "25%         0.000000  \n",
       "50%         0.000000  \n",
       "75%         0.000000  \n",
       "max         1.000000  "
      ]
     },
     "execution_count": 29,
     "metadata": {},
     "output_type": "execute_result"
    }
   ],
   "source": [
    "df_train_ex.describe()"
   ]
  },
  {
   "cell_type": "code",
   "execution_count": 30,
   "metadata": {},
   "outputs": [
    {
     "data": {
      "text/plain": [
       "id                   0\n",
       "Jenis_Kelamin        0\n",
       "Umur                 0\n",
       "SIM                  0\n",
       "Kode_Daerah          0\n",
       "Sudah_Asuransi       0\n",
       "Umur_Kendaraan       0\n",
       "Kendaraan_Rusak      0\n",
       "Premi                0\n",
       "Kanal_Penjualan      0\n",
       "Lama_Berlangganan    0\n",
       "Tertarik             0\n",
       "dtype: int64"
      ]
     },
     "execution_count": 30,
     "metadata": {},
     "output_type": "execute_result"
    }
   ],
   "source": [
    "df_train_ex.dropna(inplace = True, axis = 0)\n",
    "df_train_ex.isnull().sum()"
   ]
  },
  {
   "cell_type": "code",
   "execution_count": 31,
   "metadata": {},
   "outputs": [
    {
     "data": {
      "text/html": [
       "<div>\n",
       "<style scoped>\n",
       "    .dataframe tbody tr th:only-of-type {\n",
       "        vertical-align: middle;\n",
       "    }\n",
       "\n",
       "    .dataframe tbody tr th {\n",
       "        vertical-align: top;\n",
       "    }\n",
       "\n",
       "    .dataframe thead th {\n",
       "        text-align: right;\n",
       "    }\n",
       "</style>\n",
       "<table border=\"1\" class=\"dataframe\">\n",
       "  <thead>\n",
       "    <tr style=\"text-align: right;\">\n",
       "      <th></th>\n",
       "      <th>Jenis_Kelamin</th>\n",
       "      <th>Umur</th>\n",
       "      <th>SIM</th>\n",
       "      <th>Kode_Daerah</th>\n",
       "      <th>Sudah_Asuransi</th>\n",
       "      <th>Umur_Kendaraan</th>\n",
       "      <th>Kendaraan_Rusak</th>\n",
       "      <th>Premi</th>\n",
       "      <th>Kanal_Penjualan</th>\n",
       "      <th>Lama_Berlangganan</th>\n",
       "      <th>Tertarik</th>\n",
       "    </tr>\n",
       "  </thead>\n",
       "  <tbody>\n",
       "    <tr>\n",
       "      <th>0</th>\n",
       "      <td>Wanita</td>\n",
       "      <td>30.0</td>\n",
       "      <td>1.0</td>\n",
       "      <td>33.0</td>\n",
       "      <td>1.0</td>\n",
       "      <td>&lt; 1 Tahun</td>\n",
       "      <td>Tidak</td>\n",
       "      <td>28029.0</td>\n",
       "      <td>152.0</td>\n",
       "      <td>97.0</td>\n",
       "      <td>0</td>\n",
       "    </tr>\n",
       "    <tr>\n",
       "      <th>1</th>\n",
       "      <td>Pria</td>\n",
       "      <td>48.0</td>\n",
       "      <td>1.0</td>\n",
       "      <td>39.0</td>\n",
       "      <td>0.0</td>\n",
       "      <td>&gt; 2 Tahun</td>\n",
       "      <td>Pernah</td>\n",
       "      <td>25800.0</td>\n",
       "      <td>29.0</td>\n",
       "      <td>158.0</td>\n",
       "      <td>0</td>\n",
       "    </tr>\n",
       "    <tr>\n",
       "      <th>2</th>\n",
       "      <td>Wanita</td>\n",
       "      <td>58.0</td>\n",
       "      <td>1.0</td>\n",
       "      <td>48.0</td>\n",
       "      <td>0.0</td>\n",
       "      <td>1-2 Tahun</td>\n",
       "      <td>Tidak</td>\n",
       "      <td>2630.0</td>\n",
       "      <td>124.0</td>\n",
       "      <td>63.0</td>\n",
       "      <td>0</td>\n",
       "    </tr>\n",
       "    <tr>\n",
       "      <th>3</th>\n",
       "      <td>Pria</td>\n",
       "      <td>21.0</td>\n",
       "      <td>1.0</td>\n",
       "      <td>35.0</td>\n",
       "      <td>1.0</td>\n",
       "      <td>&lt; 1 Tahun</td>\n",
       "      <td>Tidak</td>\n",
       "      <td>22735.0</td>\n",
       "      <td>152.0</td>\n",
       "      <td>171.0</td>\n",
       "      <td>0</td>\n",
       "    </tr>\n",
       "    <tr>\n",
       "      <th>4</th>\n",
       "      <td>Wanita</td>\n",
       "      <td>20.0</td>\n",
       "      <td>1.0</td>\n",
       "      <td>8.0</td>\n",
       "      <td>1.0</td>\n",
       "      <td>&lt; 1 Tahun</td>\n",
       "      <td>Tidak</td>\n",
       "      <td>30786.0</td>\n",
       "      <td>160.0</td>\n",
       "      <td>31.0</td>\n",
       "      <td>0</td>\n",
       "    </tr>\n",
       "  </tbody>\n",
       "</table>\n",
       "</div>"
      ],
      "text/plain": [
       "  Jenis_Kelamin  Umur  SIM  Kode_Daerah  Sudah_Asuransi Umur_Kendaraan  \\\n",
       "0        Wanita  30.0  1.0         33.0             1.0      < 1 Tahun   \n",
       "1          Pria  48.0  1.0         39.0             0.0      > 2 Tahun   \n",
       "2        Wanita  58.0  1.0         48.0             0.0      1-2 Tahun   \n",
       "3          Pria  21.0  1.0         35.0             1.0      < 1 Tahun   \n",
       "4        Wanita  20.0  1.0          8.0             1.0      < 1 Tahun   \n",
       "\n",
       "  Kendaraan_Rusak    Premi  Kanal_Penjualan  Lama_Berlangganan  Tertarik  \n",
       "0           Tidak  28029.0            152.0               97.0         0  \n",
       "1          Pernah  25800.0             29.0              158.0         0  \n",
       "2           Tidak   2630.0            124.0               63.0         0  \n",
       "3           Tidak  22735.0            152.0              171.0         0  \n",
       "4           Tidak  30786.0            160.0               31.0         0  "
      ]
     },
     "execution_count": 31,
     "metadata": {},
     "output_type": "execute_result"
    }
   ],
   "source": [
    "df_train_ex = df_train_ex.drop([\"id\"], axis = 1)\n",
    "df_train_ex = df_train_ex.reset_index(drop=True)\n",
    "df_train_ex.head()"
   ]
  },
  {
   "cell_type": "code",
   "execution_count": 32,
   "metadata": {},
   "outputs": [
    {
     "data": {
      "text/html": [
       "<div>\n",
       "<style scoped>\n",
       "    .dataframe tbody tr th:only-of-type {\n",
       "        vertical-align: middle;\n",
       "    }\n",
       "\n",
       "    .dataframe tbody tr th {\n",
       "        vertical-align: top;\n",
       "    }\n",
       "\n",
       "    .dataframe thead th {\n",
       "        text-align: right;\n",
       "    }\n",
       "</style>\n",
       "<table border=\"1\" class=\"dataframe\">\n",
       "  <thead>\n",
       "    <tr style=\"text-align: right;\">\n",
       "      <th></th>\n",
       "      <th>Jenis_Kelamin</th>\n",
       "      <th>Umur</th>\n",
       "      <th>SIM</th>\n",
       "      <th>Kode_Daerah</th>\n",
       "      <th>Sudah_Asuransi</th>\n",
       "      <th>Umur_Kendaraan</th>\n",
       "      <th>Kendaraan_Rusak</th>\n",
       "      <th>Premi</th>\n",
       "      <th>Kanal_Penjualan</th>\n",
       "      <th>Lama_Berlangganan</th>\n",
       "      <th>Tertarik</th>\n",
       "    </tr>\n",
       "  </thead>\n",
       "  <tbody>\n",
       "    <tr>\n",
       "      <th>0</th>\n",
       "      <td>0</td>\n",
       "      <td>30.0</td>\n",
       "      <td>1.0</td>\n",
       "      <td>33.0</td>\n",
       "      <td>1.0</td>\n",
       "      <td>1.0</td>\n",
       "      <td>0</td>\n",
       "      <td>28029.0</td>\n",
       "      <td>152.0</td>\n",
       "      <td>97.0</td>\n",
       "      <td>0</td>\n",
       "    </tr>\n",
       "    <tr>\n",
       "      <th>1</th>\n",
       "      <td>1</td>\n",
       "      <td>48.0</td>\n",
       "      <td>1.0</td>\n",
       "      <td>39.0</td>\n",
       "      <td>0.0</td>\n",
       "      <td>2.0</td>\n",
       "      <td>1</td>\n",
       "      <td>25800.0</td>\n",
       "      <td>29.0</td>\n",
       "      <td>158.0</td>\n",
       "      <td>0</td>\n",
       "    </tr>\n",
       "    <tr>\n",
       "      <th>2</th>\n",
       "      <td>0</td>\n",
       "      <td>58.0</td>\n",
       "      <td>1.0</td>\n",
       "      <td>48.0</td>\n",
       "      <td>0.0</td>\n",
       "      <td>1.5</td>\n",
       "      <td>0</td>\n",
       "      <td>2630.0</td>\n",
       "      <td>124.0</td>\n",
       "      <td>63.0</td>\n",
       "      <td>0</td>\n",
       "    </tr>\n",
       "    <tr>\n",
       "      <th>3</th>\n",
       "      <td>1</td>\n",
       "      <td>21.0</td>\n",
       "      <td>1.0</td>\n",
       "      <td>35.0</td>\n",
       "      <td>1.0</td>\n",
       "      <td>1.0</td>\n",
       "      <td>0</td>\n",
       "      <td>22735.0</td>\n",
       "      <td>152.0</td>\n",
       "      <td>171.0</td>\n",
       "      <td>0</td>\n",
       "    </tr>\n",
       "    <tr>\n",
       "      <th>4</th>\n",
       "      <td>0</td>\n",
       "      <td>20.0</td>\n",
       "      <td>1.0</td>\n",
       "      <td>8.0</td>\n",
       "      <td>1.0</td>\n",
       "      <td>1.0</td>\n",
       "      <td>0</td>\n",
       "      <td>30786.0</td>\n",
       "      <td>160.0</td>\n",
       "      <td>31.0</td>\n",
       "      <td>0</td>\n",
       "    </tr>\n",
       "    <tr>\n",
       "      <th>5</th>\n",
       "      <td>1</td>\n",
       "      <td>25.0</td>\n",
       "      <td>1.0</td>\n",
       "      <td>14.0</td>\n",
       "      <td>1.0</td>\n",
       "      <td>1.0</td>\n",
       "      <td>0</td>\n",
       "      <td>34212.0</td>\n",
       "      <td>152.0</td>\n",
       "      <td>282.0</td>\n",
       "      <td>0</td>\n",
       "    </tr>\n",
       "    <tr>\n",
       "      <th>6</th>\n",
       "      <td>1</td>\n",
       "      <td>66.0</td>\n",
       "      <td>1.0</td>\n",
       "      <td>24.0</td>\n",
       "      <td>1.0</td>\n",
       "      <td>1.5</td>\n",
       "      <td>0</td>\n",
       "      <td>38616.0</td>\n",
       "      <td>145.0</td>\n",
       "      <td>281.0</td>\n",
       "      <td>0</td>\n",
       "    </tr>\n",
       "    <tr>\n",
       "      <th>7</th>\n",
       "      <td>1</td>\n",
       "      <td>31.0</td>\n",
       "      <td>1.0</td>\n",
       "      <td>8.0</td>\n",
       "      <td>0.0</td>\n",
       "      <td>1.0</td>\n",
       "      <td>1</td>\n",
       "      <td>2630.0</td>\n",
       "      <td>152.0</td>\n",
       "      <td>132.0</td>\n",
       "      <td>0</td>\n",
       "    </tr>\n",
       "    <tr>\n",
       "      <th>8</th>\n",
       "      <td>0</td>\n",
       "      <td>24.0</td>\n",
       "      <td>1.0</td>\n",
       "      <td>30.0</td>\n",
       "      <td>1.0</td>\n",
       "      <td>1.0</td>\n",
       "      <td>0</td>\n",
       "      <td>27285.0</td>\n",
       "      <td>152.0</td>\n",
       "      <td>215.0</td>\n",
       "      <td>0</td>\n",
       "    </tr>\n",
       "    <tr>\n",
       "      <th>9</th>\n",
       "      <td>0</td>\n",
       "      <td>22.0</td>\n",
       "      <td>1.0</td>\n",
       "      <td>15.0</td>\n",
       "      <td>0.0</td>\n",
       "      <td>1.0</td>\n",
       "      <td>1</td>\n",
       "      <td>38289.0</td>\n",
       "      <td>152.0</td>\n",
       "      <td>225.0</td>\n",
       "      <td>0</td>\n",
       "    </tr>\n",
       "  </tbody>\n",
       "</table>\n",
       "</div>"
      ],
      "text/plain": [
       "   Jenis_Kelamin  Umur  SIM  Kode_Daerah  Sudah_Asuransi  Umur_Kendaraan  \\\n",
       "0              0  30.0  1.0         33.0             1.0             1.0   \n",
       "1              1  48.0  1.0         39.0             0.0             2.0   \n",
       "2              0  58.0  1.0         48.0             0.0             1.5   \n",
       "3              1  21.0  1.0         35.0             1.0             1.0   \n",
       "4              0  20.0  1.0          8.0             1.0             1.0   \n",
       "5              1  25.0  1.0         14.0             1.0             1.0   \n",
       "6              1  66.0  1.0         24.0             1.0             1.5   \n",
       "7              1  31.0  1.0          8.0             0.0             1.0   \n",
       "8              0  24.0  1.0         30.0             1.0             1.0   \n",
       "9              0  22.0  1.0         15.0             0.0             1.0   \n",
       "\n",
       "   Kendaraan_Rusak    Premi  Kanal_Penjualan  Lama_Berlangganan  Tertarik  \n",
       "0                0  28029.0            152.0               97.0         0  \n",
       "1                1  25800.0             29.0              158.0         0  \n",
       "2                0   2630.0            124.0               63.0         0  \n",
       "3                0  22735.0            152.0              171.0         0  \n",
       "4                0  30786.0            160.0               31.0         0  \n",
       "5                0  34212.0            152.0              282.0         0  \n",
       "6                0  38616.0            145.0              281.0         0  \n",
       "7                1   2630.0            152.0              132.0         0  \n",
       "8                0  27285.0            152.0              215.0         0  \n",
       "9                1  38289.0            152.0              225.0         0  "
      ]
     },
     "execution_count": 32,
     "metadata": {},
     "output_type": "execute_result"
    }
   ],
   "source": [
    "#Jenis Kelamin\n",
    "df_train_ex[\"Jenis_Kelamin\"] = df_train_ex[\"Jenis_Kelamin\"].replace([\"Pria\", \"Wanita\"], [1,0])\n",
    "\n",
    "#Umur Kendaraan\n",
    "df_train_ex[\"Umur_Kendaraan\"] = df_train_ex[\"Umur_Kendaraan\"].replace([\"< 1 Tahun\", \"> 2 Tahun\", \"1-2 Tahun\"], [1,2,1.5])\n",
    "\n",
    "#Kendaraan Rusak\n",
    "df_train_ex[\"Kendaraan_Rusak\"] = df_train_ex[\"Kendaraan_Rusak\"].replace([\"Pernah\", \"Tidak\"], [1,0])\n",
    "\n",
    "df_train_ex.head(10)"
   ]
  },
  {
   "cell_type": "code",
   "execution_count": 33,
   "metadata": {},
   "outputs": [
    {
     "data": {
      "text/html": [
       "<div>\n",
       "<style scoped>\n",
       "    .dataframe tbody tr th:only-of-type {\n",
       "        vertical-align: middle;\n",
       "    }\n",
       "\n",
       "    .dataframe tbody tr th {\n",
       "        vertical-align: top;\n",
       "    }\n",
       "\n",
       "    .dataframe thead th {\n",
       "        text-align: right;\n",
       "    }\n",
       "</style>\n",
       "<table border=\"1\" class=\"dataframe\">\n",
       "  <thead>\n",
       "    <tr style=\"text-align: right;\">\n",
       "      <th></th>\n",
       "      <th>Jenis_Kelamin</th>\n",
       "      <th>Umur</th>\n",
       "      <th>SIM</th>\n",
       "      <th>Kode_Daerah</th>\n",
       "      <th>Sudah_Asuransi</th>\n",
       "      <th>Umur_Kendaraan</th>\n",
       "      <th>Kendaraan_Rusak</th>\n",
       "      <th>Premi</th>\n",
       "      <th>Kanal_Penjualan</th>\n",
       "      <th>Lama_Berlangganan</th>\n",
       "      <th>Tertarik</th>\n",
       "    </tr>\n",
       "  </thead>\n",
       "  <tbody>\n",
       "    <tr>\n",
       "      <th>0</th>\n",
       "      <td>-1.084918</td>\n",
       "      <td>-0.567753</td>\n",
       "      <td>0.045537</td>\n",
       "      <td>0.496795</td>\n",
       "      <td>1.083923</td>\n",
       "      <td>-1.071127</td>\n",
       "      <td>-1.008925</td>\n",
       "      <td>-0.144979</td>\n",
       "      <td>0.734473</td>\n",
       "      <td>-0.682703</td>\n",
       "      <td>-0.372027</td>\n",
       "    </tr>\n",
       "    <tr>\n",
       "      <th>1</th>\n",
       "      <td>0.921729</td>\n",
       "      <td>0.591171</td>\n",
       "      <td>0.045537</td>\n",
       "      <td>0.949204</td>\n",
       "      <td>-0.922575</td>\n",
       "      <td>2.452328</td>\n",
       "      <td>0.991154</td>\n",
       "      <td>-0.275404</td>\n",
       "      <td>-1.538819</td>\n",
       "      <td>0.044680</td>\n",
       "      <td>-0.372027</td>\n",
       "    </tr>\n",
       "    <tr>\n",
       "      <th>2</th>\n",
       "      <td>-1.084918</td>\n",
       "      <td>1.235018</td>\n",
       "      <td>0.045537</td>\n",
       "      <td>1.627818</td>\n",
       "      <td>-0.922575</td>\n",
       "      <td>0.690601</td>\n",
       "      <td>-1.008925</td>\n",
       "      <td>-1.631139</td>\n",
       "      <td>0.216975</td>\n",
       "      <td>-1.088129</td>\n",
       "      <td>-0.372027</td>\n",
       "    </tr>\n",
       "    <tr>\n",
       "      <th>3</th>\n",
       "      <td>0.921729</td>\n",
       "      <td>-1.147215</td>\n",
       "      <td>0.045537</td>\n",
       "      <td>0.647598</td>\n",
       "      <td>1.083923</td>\n",
       "      <td>-1.071127</td>\n",
       "      <td>-1.008925</td>\n",
       "      <td>-0.454745</td>\n",
       "      <td>0.734473</td>\n",
       "      <td>0.199696</td>\n",
       "      <td>-0.372027</td>\n",
       "    </tr>\n",
       "    <tr>\n",
       "      <th>4</th>\n",
       "      <td>-1.084918</td>\n",
       "      <td>-1.211599</td>\n",
       "      <td>0.045537</td>\n",
       "      <td>-1.388242</td>\n",
       "      <td>1.083923</td>\n",
       "      <td>-1.071127</td>\n",
       "      <td>-1.008925</td>\n",
       "      <td>0.016340</td>\n",
       "      <td>0.882329</td>\n",
       "      <td>-1.469707</td>\n",
       "      <td>-0.372027</td>\n",
       "    </tr>\n",
       "    <tr>\n",
       "      <th>...</th>\n",
       "      <td>...</td>\n",
       "      <td>...</td>\n",
       "      <td>...</td>\n",
       "      <td>...</td>\n",
       "      <td>...</td>\n",
       "      <td>...</td>\n",
       "      <td>...</td>\n",
       "      <td>...</td>\n",
       "      <td>...</td>\n",
       "      <td>...</td>\n",
       "      <td>...</td>\n",
       "    </tr>\n",
       "    <tr>\n",
       "      <th>171063</th>\n",
       "      <td>-1.084918</td>\n",
       "      <td>-1.018445</td>\n",
       "      <td>0.045537</td>\n",
       "      <td>-1.689848</td>\n",
       "      <td>1.083923</td>\n",
       "      <td>-1.071127</td>\n",
       "      <td>-1.008925</td>\n",
       "      <td>-0.264403</td>\n",
       "      <td>0.734473</td>\n",
       "      <td>0.748214</td>\n",
       "      <td>-0.372027</td>\n",
       "    </tr>\n",
       "    <tr>\n",
       "      <th>171064</th>\n",
       "      <td>-1.084918</td>\n",
       "      <td>-1.147215</td>\n",
       "      <td>0.045537</td>\n",
       "      <td>1.477015</td>\n",
       "      <td>1.083923</td>\n",
       "      <td>-1.071127</td>\n",
       "      <td>-1.008925</td>\n",
       "      <td>0.829664</td>\n",
       "      <td>0.734473</td>\n",
       "      <td>-1.243145</td>\n",
       "      <td>-0.372027</td>\n",
       "    </tr>\n",
       "    <tr>\n",
       "      <th>171065</th>\n",
       "      <td>-1.084918</td>\n",
       "      <td>-1.018445</td>\n",
       "      <td>0.045537</td>\n",
       "      <td>1.778621</td>\n",
       "      <td>1.083923</td>\n",
       "      <td>-1.071127</td>\n",
       "      <td>-1.008925</td>\n",
       "      <td>1.126030</td>\n",
       "      <td>0.734473</td>\n",
       "      <td>0.855532</td>\n",
       "      <td>-0.372027</td>\n",
       "    </tr>\n",
       "    <tr>\n",
       "      <th>171066</th>\n",
       "      <td>0.921729</td>\n",
       "      <td>1.878864</td>\n",
       "      <td>0.045537</td>\n",
       "      <td>-1.463643</td>\n",
       "      <td>1.083923</td>\n",
       "      <td>0.690601</td>\n",
       "      <td>-1.008925</td>\n",
       "      <td>-0.000219</td>\n",
       "      <td>0.216975</td>\n",
       "      <td>1.380202</td>\n",
       "      <td>-0.372027</td>\n",
       "    </tr>\n",
       "    <tr>\n",
       "      <th>171067</th>\n",
       "      <td>0.921729</td>\n",
       "      <td>0.398017</td>\n",
       "      <td>0.045537</td>\n",
       "      <td>0.119788</td>\n",
       "      <td>-0.922575</td>\n",
       "      <td>0.690601</td>\n",
       "      <td>0.991154</td>\n",
       "      <td>0.349510</td>\n",
       "      <td>-1.594265</td>\n",
       "      <td>-1.314691</td>\n",
       "      <td>-0.372027</td>\n",
       "    </tr>\n",
       "  </tbody>\n",
       "</table>\n",
       "<p>171068 rows × 11 columns</p>\n",
       "</div>"
      ],
      "text/plain": [
       "        Jenis_Kelamin      Umur       SIM  Kode_Daerah  Sudah_Asuransi  \\\n",
       "0           -1.084918 -0.567753  0.045537     0.496795        1.083923   \n",
       "1            0.921729  0.591171  0.045537     0.949204       -0.922575   \n",
       "2           -1.084918  1.235018  0.045537     1.627818       -0.922575   \n",
       "3            0.921729 -1.147215  0.045537     0.647598        1.083923   \n",
       "4           -1.084918 -1.211599  0.045537    -1.388242        1.083923   \n",
       "...               ...       ...       ...          ...             ...   \n",
       "171063      -1.084918 -1.018445  0.045537    -1.689848        1.083923   \n",
       "171064      -1.084918 -1.147215  0.045537     1.477015        1.083923   \n",
       "171065      -1.084918 -1.018445  0.045537     1.778621        1.083923   \n",
       "171066       0.921729  1.878864  0.045537    -1.463643        1.083923   \n",
       "171067       0.921729  0.398017  0.045537     0.119788       -0.922575   \n",
       "\n",
       "        Umur_Kendaraan  Kendaraan_Rusak     Premi  Kanal_Penjualan  \\\n",
       "0            -1.071127        -1.008925 -0.144979         0.734473   \n",
       "1             2.452328         0.991154 -0.275404        -1.538819   \n",
       "2             0.690601        -1.008925 -1.631139         0.216975   \n",
       "3            -1.071127        -1.008925 -0.454745         0.734473   \n",
       "4            -1.071127        -1.008925  0.016340         0.882329   \n",
       "...                ...              ...       ...              ...   \n",
       "171063       -1.071127        -1.008925 -0.264403         0.734473   \n",
       "171064       -1.071127        -1.008925  0.829664         0.734473   \n",
       "171065       -1.071127        -1.008925  1.126030         0.734473   \n",
       "171066        0.690601        -1.008925 -0.000219         0.216975   \n",
       "171067        0.690601         0.991154  0.349510        -1.594265   \n",
       "\n",
       "        Lama_Berlangganan  Tertarik  \n",
       "0               -0.682703 -0.372027  \n",
       "1                0.044680 -0.372027  \n",
       "2               -1.088129 -0.372027  \n",
       "3                0.199696 -0.372027  \n",
       "4               -1.469707 -0.372027  \n",
       "...                   ...       ...  \n",
       "171063           0.748214 -0.372027  \n",
       "171064          -1.243145 -0.372027  \n",
       "171065           0.855532 -0.372027  \n",
       "171066           1.380202 -0.372027  \n",
       "171067          -1.314691 -0.372027  \n",
       "\n",
       "[171068 rows x 11 columns]"
      ]
     },
     "execution_count": 33,
     "metadata": {},
     "output_type": "execute_result"
    }
   ],
   "source": [
    "from sklearn.preprocessing import StandardScaler\n",
    "\n",
    "scaler = StandardScaler()\n",
    "df_train_ex = pd.DataFrame(scaler.fit_transform(df_train_ex), columns=df_train_ex.columns)\n",
    "df_train_ex"
   ]
  },
  {
   "cell_type": "code",
   "execution_count": 34,
   "metadata": {},
   "outputs": [
    {
     "data": {
      "image/png": "[encoded data removed]",
      "text/plain": [
       "<Figure size 1152x432 with 2 Axes>"
      ]
     },
     "metadata": {
      "needs_background": "light"
     },
     "output_type": "display_data"
    }
   ],
   "source": [
    "plt.figure(figsize=(16, 6))\n",
    "sns.heatmap(df_train_ex.corr(), annot = True)\n",
    "plt.title(\"korelasi antar variabel dengan representasi angka\", fontweight=\"bold\",y=1.1)\n",
    "plt.show()"
   ]
  },
  {
   "cell_type": "code",
   "execution_count": 35,
   "metadata": {},
   "outputs": [
    {
     "data": {
      "text/plain": [
       "array([[-2.14252134,  0.17797044],\n",
       "       [ 2.86947419,  0.81972798],\n",
       "       [ 0.48353213,  0.45024887],\n",
       "       ...,\n",
       "       [-2.22670416,  0.25220758],\n",
       "       [ 0.15134263,  2.01599362],\n",
       "       [ 1.96471414,  0.36453143]])"
      ]
     },
     "execution_count": 35,
     "metadata": {},
     "output_type": "execute_result"
    }
   ],
   "source": [
    "from sklearn.decomposition import PCA\n",
    "pca = PCA(n_components=2)\n",
    "x = pca.fit_transform(df_train_ex)\n",
    "x"
   ]
  },
  {
   "cell_type": "code",
   "execution_count": 36,
   "metadata": {},
   "outputs": [
    {
     "data": {
      "text/plain": [
       "<matplotlib.collections.PathCollection at 0x18cb53555e0>"
      ]
     },
     "execution_count": 36,
     "metadata": {},
     "output_type": "execute_result"
    },
    {
     "data": {
      "image/png": "[encoded data removed]",
      "text/plain": [
       "<Figure size 432x288 with 1 Axes>"
      ]
     },
     "metadata": {
      "needs_background": "light"
     },
     "output_type": "display_data"
    }
   ],
   "source": [
    "plt.scatter(x[:,0],x[:,1])"
   ]
  },
  {
   "cell_type": "markdown",
   "metadata": {},
   "source": [
    "#### Pemodelan"
   ]
  },
  {
   "cell_type": "code",
   "execution_count": 37,
   "metadata": {},
   "outputs": [],
   "source": [
    "def hitung_jarak(x1,x2):\n",
    "    return (sum((x1 - x2)**2)**0.5)"
   ]
  },
  {
   "cell_type": "markdown",
   "metadata": {},
   "source": [
    "###### Membuat fungsi untuk mengelompokkan data kedalam cluster dan mengembalikan list yang berisi cluster dari setiap dataset"
   ]
  },
  {
   "cell_type": "code",
   "execution_count": 38,
   "metadata": {},
   "outputs": [],
   "source": [
    "def clustering(centroids, x):\n",
    "    clusters = []\n",
    "    for i in range(len(x)):\n",
    "        jarak = []\n",
    "        for centroid in centroids:\n",
    "            jarak.append(hitung_jarak(centroid, x[i]))\n",
    "        jarak_terpendek = [z for z, val in enumerate(jarak) if val==min(jarak)]\n",
    "        clusters.append(jarak_terpendek[0])\n",
    "    return np.array(clusters)"
   ]
  },
  {
   "cell_type": "markdown",
   "metadata": {},
   "source": [
    "###### Membuat fungsi untuk membuat centroid baru"
   ]
  },
  {
   "cell_type": "code",
   "execution_count": 39,
   "metadata": {},
   "outputs": [],
   "source": [
    "def buat_centroid(clusters, x):\n",
    "    centroid_baru = []\n",
    "    df_clusters_x = pd.concat([pd.DataFrame(x),pd.DataFrame(clusters, columns=['cluster'])], axis=1)\n",
    "    for c in set(df_clusters_x['cluster']):\n",
    "        df_current_cluster = df_clusters_x[df_clusters_x['cluster']==c][df_clusters_x.columns[:-1]]\n",
    "        ratarata_cluster = df_current_cluster.mean(axis=0)\n",
    "        centroid_baru.append(ratarata_cluster)\n",
    "    return np.array(centroid_baru)"
   ]
  },
  {
   "cell_type": "markdown",
   "metadata": {},
   "source": [
    "###### Membuat fungsi untuk mencari varians dari suatu cluster"
   ]
  },
  {
   "cell_type": "markdown",
   "metadata": {},
   "source": [
    "Varians pada cluster digunakan sebagai tolak ukur baik tidaknya clustering"
   ]
  },
  {
   "cell_type": "code",
   "execution_count": 40,
   "metadata": {},
   "outputs": [],
   "source": [
    "def varians_cluster(clusters, x):\n",
    "    varians = []\n",
    "    df_clusters_x = pd.concat([pd.DataFrame(x),pd.DataFrame(clusters, columns=['cluster'])], axis=1)\n",
    "    for c in set(df_clusters_x['cluster']):\n",
    "        df_current_cluster = df_clusters_x[df_clusters_x['cluster'] ==c][df_clusters_x.columns[:-1]]\n",
    "        ratarata_cluster = df_current_cluster.mean(axis=0)\n",
    "        mean_repmat = np.matlib.repmat(ratarata_cluster, df_current_cluster.shape[0],1)\n",
    "        varians.append(np.sum(np.sum((df_current_cluster - mean_repmat)**2)))\n",
    "    return np.array(varians)"
   ]
  },
  {
   "cell_type": "code",
   "execution_count": 41,
   "metadata": {},
   "outputs": [],
   "source": [
    "def elbow_method(WCSS, k):\n",
    "    plt.plot(range(1,k+1),WCSS)\n",
    "    plt.title('The Elbow Method')\n",
    "    plt.xlabel(\"Jumlah Cluster\")\n",
    "    plt.ylabel(\"WCSS\")\n",
    "    plt.show()"
   ]
  },
  {
   "cell_type": "markdown",
   "metadata": {},
   "source": [
    "###### Melakukan K-Means"
   ]
  },
  {
   "cell_type": "code",
   "execution_count": 42,
   "metadata": {},
   "outputs": [
    {
     "name": "stdout",
     "output_type": "stream",
     "text": [
      "Varians cluster awal 47241 pada K: 1\n",
      "Varians pada percobaan clustering Ke- 1 43623\n",
      "Varians pada percobaan clustering Ke- 2 40534\n",
      "WCSS Cluster dengan K = 1 : 84157 \n",
      "\n",
      "Varians cluster awal 40534 pada K: 2\n",
      "Varians pada percobaan clustering Ke- 1 34504\n",
      "Varians pada percobaan clustering Ke- 2 33297\n",
      "WCSS Cluster dengan K = 2 : 67801 \n",
      "\n",
      "Varians cluster awal 33297 pada K: 3\n",
      "Varians pada percobaan clustering Ke- 1 32852\n",
      "Varians pada percobaan clustering Ke- 2 32654\n",
      "WCSS Cluster dengan K = 3 : 65505 \n",
      "\n",
      "Varians cluster awal 32654 pada K: 4\n",
      "Varians pada percobaan clustering Ke- 1 32550\n",
      "Varians pada percobaan clustering Ke- 2 32499\n",
      "WCSS Cluster dengan K = 4 : 65049 \n",
      "\n"
     ]
    },
    {
     "data": {
      "image/png": "[encoded data removed]",
      "text/plain": [
       "<Figure size 432x288 with 1 Axes>"
      ]
     },
     "metadata": {
      "needs_background": "light"
     },
     "output_type": "display_data"
    },
    {
     "name": "stdout",
     "output_type": "stream",
     "text": [
      "Wall time: 41 s\n"
     ]
    }
   ],
   "source": [
    "%%time\n",
    "k = 4\n",
    "WCSS = []\n",
    "centroid_awal = np.random.choice(len(x), k, replace=False)\n",
    "centroids = x[centroid_awal, :]\n",
    "#Looping K\n",
    "for i in range (1,k+1):\n",
    "    variansCluster = []\n",
    "    clusters = clustering(centroids, x)\n",
    "    print(\"Varians cluster awal\", round(np.mean(varians_cluster(clusters, x))), \"pada K:\",i )\n",
    "    \n",
    "    #Looping Percobaan Clustering\n",
    "    for j in range(2):\n",
    "        centroids = buat_centroid(clusters,x)\n",
    "        clusters = clustering(centroids, x)\n",
    "        cluster_var = np.mean(varians_cluster(clusters, x))\n",
    "        variansCluster.append(cluster_var)\n",
    "        print(\"Varians pada percobaan clustering Ke-\",j+1, round(cluster_var))\n",
    "    WCSS.append(np.sum(variansCluster))\n",
    "    print(\"WCSS Cluster dengan K =\",i,\":\",round(WCSS[i-1]),\"\\n\")\n",
    "\n",
    "elbow_method(WCSS,k)"
   ]
  },
  {
   "cell_type": "markdown",
   "metadata": {},
   "source": [
    "###### Visualisasi K-Means"
   ]
  },
  {
   "cell_type": "code",
   "execution_count": 43,
   "metadata": {},
   "outputs": [
    {
     "data": {
      "image/png": "[encoded data removed]",
      "text/plain": [
       "<Figure size 432x288 with 1 Axes>"
      ]
     },
     "metadata": {
      "needs_background": "light"
     },
     "output_type": "display_data"
    }
   ],
   "source": [
    "df_clusters_x = pd.concat([pd.DataFrame(x),pd.DataFrame(clusters, columns=['cluster'])], axis=1)\n",
    "label = df_clusters_x['cluster']\n",
    "u_labels = np.unique(label)\n",
    "for i in range(len(u_labels)):\n",
    "    plt.scatter(x[label == i , 0] , x[label == i , 1] , label = i+1, s = 100)\n",
    "plt.scatter(centroids[:,0], centroids[:,1], marker = 'D', s = 200, label = 'Centroids')\n",
    "plt.title('K-Means Clustering dengan {} cluster'.format(k))\n",
    "plt.legend(bbox_to_anchor=(1.1, 1), title = 'Clusters')\n",
    "plt.show()"
   ]
  },
  {
   "cell_type": "markdown",
   "metadata": {},
   "source": [
    "### Evaluasi"
   ]
  },
  {
   "cell_type": "markdown",
   "metadata": {},
   "source": [
    "Menggunakan Silhouette Method"
   ]
  },
  {
   "cell_type": "code",
   "execution_count": 44,
   "metadata": {},
   "outputs": [
    {
     "name": "stdout",
     "output_type": "stream",
     "text": [
      "Nilai Silhoutte Method untuk, n_clusters = 1 adalah 0.618676107573346\n",
      "Nilai Silhoutte Method untuk, n_clusters = 2 adalah 0.618676107573346\n",
      "Nilai Silhoutte Method untuk, n_clusters = 3 adalah 0.618676107573346\n",
      "Nilai Silhoutte Method untuk, n_clusters = 4 adalah 0.618676107573346\n",
      "Wall time: 45min 5s\n"
     ]
    }
   ],
   "source": [
    "%%time\n",
    "from sklearn.metrics import silhouette_score\n",
    "\n",
    "skor_silhouette = []\n",
    "\n",
    "for n_cluster in range(k):\n",
    "    koefisien_silhouette = silhouette_score(df_clusters_x, df_clusters_x['cluster'], metric = 'euclidean')\n",
    "    skor_silhouette.append(koefisien_silhouette)\n",
    "    print('Nilai Silhoutte Method untuk, n_clusters = {} adalah {}'.format(n_cluster+1, koefisien_silhouette))"
   ]
  },
  {
   "cell_type": "markdown",
   "metadata": {},
   "source": [
    "### Kesimpulan"
   ]
  },
  {
   "cell_type": "markdown",
   "metadata": {},
   "source": [
    "Dari berbagai proses yang dijalankan, dapat dilihat bahwa k-means clustering bergantung pada tahap ekplorasi data. Data yang menggunakan dua scalling yang berbeda menghasilkan distribusi data yang berbeda seperti pada hasil visualisasi. Kecepatan k-means dipengaruhi juga oleh PCA terlihat dari segi waktu untuk menyelesaikan clustering.Untuk mendapatkan K terbaik dapat dilakukan dengan dua cara yaitu  elbow dan silhouette. "
   ]
  }
 ],
 "metadata": {
  "kernelspec": {
   "display_name": "Python 3",
   "language": "python",
   "name": "python3"
  },
  "language_info": {
   "codemirror_mode": {
    "name": "ipython",
    "version": 3
   },
   "file_extension": ".py",
   "mimetype": "text/x-python",
   "name": "python",
   "nbconvert_exporter": "python",
   "pygments_lexer": "ipython3",
   "version": "3.8.5"
  }
 },
 "nbformat": 4,
 "nbformat_minor": 4
}
